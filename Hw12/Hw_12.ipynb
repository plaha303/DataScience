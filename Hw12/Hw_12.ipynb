{
 "cells": [
  {
   "cell_type": "code",
   "execution_count": 1,
   "id": "80323709-e88f-49e9-b217-e981f987f489",
   "metadata": {},
   "outputs": [],
   "source": [
    "import spacy\n",
    "import nltk\n",
    "from heapq import nlargest\n",
    "from nltk.corpus import stopwords\n",
    "from nltk.tokenize import word_tokenize, sent_tokenize\n",
    "from string import punctuation\n",
    "from heapq import nlargest"
   ]
  },
  {
   "cell_type": "markdown",
   "id": "0b2bb8bb-8c9d-4571-93b2-ae8f5c6e12a7",
   "metadata": {},
   "source": [
    "## Spacy"
   ]
  },
  {
   "cell_type": "code",
   "execution_count": 2,
   "id": "da7f5406-f7ff-4a43-ac8d-17c1b29c29b4",
   "metadata": {},
   "outputs": [],
   "source": [
    "# Завантаження мовної моделі SpaCy\n",
    "nlp = spacy.load('en_core_web_sm')"
   ]
  },
  {
   "cell_type": "code",
   "execution_count": 3,
   "id": "c6b32f63-66a1-490d-ae15-d5e115a50804",
   "metadata": {},
   "outputs": [],
   "source": [
    "# Вхідний текст\n",
    "text = \"The Orbiter Discovery, OV-103, is considered eligible for listing in the National Register of Historic Places (NRHP) in the context of the U.S. Space Shuttle Program (1969-2011) under Criterion A in the areas of Space Exploration and Transportation and under Criterion C in the area of Engineering. Because it has achieved significance within the past fifty years, Criteria Consideration G applies. Under Criterion A, Discovery is significant as the oldest of the three extant orbiter vehicles constructed for the Space Shuttle Program (SSP), the longest running American space program to date; she was the third of five orbiters built by NASA. Unlike the Mercury, Gemini, and Apollo programs, the SSP’s emphasis was on cost effectiveness and reusability, and eventually the construction of a space station. Including her maiden voyage (launched August 30, 1984), Discovery flew to space thirty-nine times, more than any of the other four orbiters; she was also the first orbiter to fly twenty missions. She had the honor of being chosen as the Return to Flight vehicle after both the Challenger and Columbia accidents. Discovery was the first shuttle to fly with the redesigned SRBs, a result of the Challenger accident, and the first shuttle to fly with the Phase II and Block I SSME. Discovery also carried the Hubble Space Telescope to orbit and performed two of the five servicing missions to the observatory. She flew the first and last dedicated Department of Defense (DoD) missions, as well as the first unclassified defense-related mission. In addition, Discovery was vital to the construction of the International Space Station (ISS); she flew thirteen of the thirty-seven total missions flown to the station by a U.S. Space Shuttle. She was the first orbiter to dock to the ISS, and the first to perform an exchange of a resident crew. Under Criterion C, Discovery is significant as a feat of engineering. According to Wayne Hale, a flight director from Johnson Space Center, the Space Shuttle orbiter represents a “huge technological leap from expendable rockets and capsules to a reusable, winged, hypersonic, cargo-carrying spacecraft.” Although her base structure followed a conventional aircraft design, she used advanced materials that both minimized her weight for cargo-carrying purposes and featured low thermal expansion ratios, which provided a stable base for her Thermal Protection System (TPS) materials. The Space Shuttle orbiter also featured the first reusable TPS; all previous spaceflight vehicles had a single-use, ablative heat shield. Other notable engineering achievements of the orbiter included the first reusable orbital propulsion system, and the first two-fault-tolerant Integrated Avionics System. As Hale stated, the Space Shuttle remains “the largest, fastest, winged hypersonic aircraft in history,” having regularly flown at twenty-five times the speed of sound.\""
   ]
  },
  {
   "cell_type": "code",
   "execution_count": 4,
   "id": "0a4d1868-c969-472b-b0a3-293e0963baec",
   "metadata": {},
   "outputs": [],
   "source": [
    "# Токенізація та видалення стоп-слів і пунктуації\n",
    "doc = nlp(text)\n",
    "tokens = [token.text for token in doc]\n",
    "stop_words = set(stopwords.words('english'))\n",
    "word_frequencies = {}\n",
    "for word in doc:\n",
    "    if word.text.lower() not in stop_words and word.text.lower() not in punctuation:\n",
    "        word_frequencies[word.text] = word_frequencies.get(word.text, 0) + 1"
   ]
  },
  {
   "cell_type": "code",
   "execution_count": 5,
   "id": "f327c23d-48aa-464e-bf0f-787b012349bf",
   "metadata": {},
   "outputs": [],
   "source": [
    "# Розділення тексту на речення\n",
    "sentence_tokens = sent_tokenize(text)\n",
    "sentence_scores = {}\n",
    "for sent in sentence_tokens:\n",
    "    for word in sent.split():\n",
    "        if word in word_frequencies:\n",
    "            if len(sent.split()) < 30:\n",
    "                sentence_scores[sent] = sentence_scores.get(sent, 0) + word_frequencies[word]"
   ]
  },
  {
   "cell_type": "code",
   "execution_count": 6,
   "id": "09631067-09d6-4fb9-bd29-cd77e8438826",
   "metadata": {},
   "outputs": [],
   "source": [
    "# Вибір найбільш важливих речень для summary\n",
    "select_length = int(len(sentence_tokens)*0.3)\n",
    "summary_spacy = nlargest(select_length, sentence_scores, key=sentence_scores.get)"
   ]
  },
  {
   "cell_type": "code",
   "execution_count": 7,
   "id": "51dc6217-9b61-46e1-889c-797b63a0c6a7",
   "metadata": {},
   "outputs": [
    {
     "name": "stdout",
     "output_type": "stream",
     "text": [
      "The Space Shuttle orbiter also featured the first reusable TPS; all previous spaceflight vehicles had a single-use, ablative heat shield. Other notable engineering achievements of the orbiter included the first reusable orbital propulsion system, and the first two-fault-tolerant Integrated Avionics System. Discovery also carried the Hubble Space Telescope to orbit and performed two of the five servicing missions to the observatory. As Hale stated, the Space Shuttle remains “the largest, fastest, winged hypersonic aircraft in history,” having regularly flown at twenty-five times the speed of sound.\n",
      "Summary: 604 Text: 2906\n"
     ]
    }
   ],
   "source": [
    "# Формування summary\n",
    "summary_spacy = ' '.join(summary_spacy)\n",
    "print(summary_spacy)\n",
    "print(f\"Summary: {len(summary_spacy)} Text: {len(text)}\")"
   ]
  },
  {
   "cell_type": "markdown",
   "id": "8ab03852-3952-467f-9f0b-e3702d6d4dfd",
   "metadata": {},
   "source": [
    "## NLTK"
   ]
  },
  {
   "cell_type": "code",
   "execution_count": 8,
   "id": "6e712ad3-fb23-4bd7-8a2b-741a2f7d3799",
   "metadata": {},
   "outputs": [],
   "source": [
    "# Токенізація та видалення стоп-слів і пунктуації\n",
    "tokens = word_tokenize(text)\n",
    "stop_words = set(stopwords.words('english'))\n",
    "word_frequencies = {}\n",
    "for word in tokens:\n",
    "    if word.lower() not in stop_words and word.lower() not in punctuation:\n",
    "        word_frequencies[word] = word_frequencies.get(word, 0) + 1"
   ]
  },
  {
   "cell_type": "code",
   "execution_count": 9,
   "id": "597a3dfd-0ba6-454c-95f6-239cb4584985",
   "metadata": {},
   "outputs": [],
   "source": [
    "# Розділення тексту на речення\n",
    "sentence_tokens = sent_tokenize(text)\n",
    "sentence_scores = {}\n",
    "for sent in sentence_tokens:\n",
    "    for word in word_tokenize(sent.lower()):\n",
    "        if word in word_frequencies:\n",
    "            if len(sent.split()) < 30:\n",
    "                sentence_scores[sent] = sentence_scores.get(sent, 0) + word_frequencies[word]"
   ]
  },
  {
   "cell_type": "code",
   "execution_count": 10,
   "id": "bd7fe941-30f9-427d-96f4-7cf365c9d185",
   "metadata": {},
   "outputs": [],
   "source": [
    "# Вибір найбільш важливих речень для summary\n",
    "select_length = int(len(sentence_tokens)*0.3)\n",
    "summary_nltk = nlargest(select_length, sentence_scores, key=sentence_scores.get)"
   ]
  },
  {
   "cell_type": "code",
   "execution_count": 11,
   "id": "d3584e28-ba00-486d-9c70-83c96c0f3b2a",
   "metadata": {},
   "outputs": [
    {
     "name": "stdout",
     "output_type": "stream",
     "text": [
      "Other notable engineering achievements of the orbiter included the first reusable orbital propulsion system, and the first two-fault-tolerant Integrated Avionics System. The Space Shuttle orbiter also featured the first reusable TPS; all previous spaceflight vehicles had a single-use, ablative heat shield. She flew the first and last dedicated Department of Defense (DoD) missions, as well as the first unclassified defense-related mission. She was the first orbiter to dock to the ISS, and the first to perform an exchange of a resident crew.\n",
      "Summary: 545 Text: 2906\n"
     ]
    }
   ],
   "source": [
    "# Формування summary\n",
    "summary_nltk = ' '.join(summary_nltk)\n",
    "print(summary_nltk)\n",
    "print(f\"Summary: {len(summary_nltk)} Text: {len(text)}\")"
   ]
  }
 ],
 "metadata": {
  "kernelspec": {
   "display_name": "Python 3 (ipykernel)",
   "language": "python",
   "name": "python3"
  },
  "language_info": {
   "codemirror_mode": {
    "name": "ipython",
    "version": 3
   },
   "file_extension": ".py",
   "mimetype": "text/x-python",
   "name": "python",
   "nbconvert_exporter": "python",
   "pygments_lexer": "ipython3",
   "version": "3.11.5"
  }
 },
 "nbformat": 4,
 "nbformat_minor": 5
}
