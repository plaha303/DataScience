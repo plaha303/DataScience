{
 "cells": [
  {
   "cell_type": "markdown",
   "metadata": {
    "id": "123AkTMnzq6K"
   },
   "source": [
    "# Порекомендуйте фільм/серіал/мультик/аніме/відеоблогера, якій мені сподобається."
   ]
  },
  {
   "cell_type": "markdown",
   "metadata": {
    "id": "FLENxLxk394X"
   },
   "source": [
    "Рекомендації всюди. Чим краще ви зможете рекомендувати, тим більш популярним буде ресурс, тим більше він дать грошей, тим меньше буде скарг на контент\n",
    "\n",
    "![alt text](https://storage.googleapis.com/dopingcloud/blog/en/2021/08/how-next-watch-recommendation-algorithm-works.png)"
   ]
  },
  {
   "cell_type": "markdown",
   "metadata": {
    "id": "ICdnVafn7zDQ"
   },
   "source": [
    "\n",
    "Рекомендаційні системи використовуються в широкому спектрі сфер індустрії та послуг. Деякі з найпоширеніших застосувань рекомендаційних систем включають:\n",
    "\n",
    "- **Електронна комерція**: Рекомендаційні системи допомагають користувачам знаходити товари або послуги, які їм можуть сподобатися на основі їхніх попередніх покупок, переглядів або поведінки.\n",
    "\n",
    "- **Стрімінгові медіа-сервіси**: Системи рекомендацій допомагають користувачам відкривати нові фільми, серіали, музику або інші мультимедійні контенти, які вони можуть зацікавитися, на основі їхніх попередніх переглядів або вподобань.\n",
    "\n",
    "- **Соціальні мережі**: Рекомендаційні системи допомагають користувачам знаходити нових друзів, групи або сторінки для підписки на основі їхніх інтересів і активності в мережі.\n",
    "\n",
    "- **Медичні додатки**: Рекомендаційні системи можуть використовуватися для рекомендацій лікарських препаратів, лікарів або методів лікування на основі медичних даних користувача.\n",
    "\n",
    "- **Освітні платформи**: Рекомендаційні системи допомагають студентам знаходити курси, навчальні матеріали або ресурси, які відповідають їхнім академічним інтересам і потребам.\n",
    "\n",
    "- **Подорожі та туризм**: Рекомендаційні системи можуть рекомендувати готелі, ресторани, екскурсії або маршрути на основі історії подорожей або вподобань користувача.\n",
    "\n",
    "- **Банківські та фінансові послуги**: Рекомендаційні системи можуть надавати користувачам рекомендації щодо інвестицій, кредитів або фінансових продуктів на основі їхньої фінансової історії та цілей.\n",
    "\n",
    "Ці лише кілька прикладів використання рекомендаційних систем, і вони можуть бути застосовані в багатьох інших сферах, де потрібно особисті індивідуалізовані рекомендації."
   ]
  },
  {
   "cell_type": "markdown",
   "metadata": {
    "id": "Jbj561uQ7VZg"
   },
   "source": [
    "![alt text](https://miro.medium.com/v2/resize:fit:766/1*Z1z_1Ox7TA7SAgXGM4EmEg.png)"
   ]
  },
  {
   "cell_type": "markdown",
   "metadata": {
    "id": "02uJNkLK9VBZ"
   },
   "source": [
    "# Математична модель"
   ]
  },
  {
   "cell_type": "markdown",
   "metadata": {
    "id": "DXfVRaYJ9V-7"
   },
   "source": [
    "Давайте візьмемо для прикладу задачу рекомендацій фільмів. Тоді сформулюємо, який ми маємо датасет:\n",
    "\n",
    "\n",
    "Рекомендаційна система - це модель, яка надає рекомендації користувачам щодо об'єктів (таких як фільми, книги, товари), які можуть їм сподобатися. Математична модель рекомендаційної системи може бути представлена таким чином:\n",
    "\n",
    "**Множини**:\n",
    "\n",
    "Матриця\n",
    "\n",
    "$X$: кожен рядок відповідає вектору ознак $x_i$ для i-ого фільма.\n",
    "\n",
    "$W$: кожен рядок відповідає вектору параметрів $w_J$ для j-ого користувача.\n",
    "\n",
    "$$Y = X\\cdot W$$\n",
    "\n",
    "$Y$: матриця рейтингів, де $Y_{ij}$- рейтинг, який користувач $j$ надав об'єкту\n",
    "$i$.\n",
    "\n",
    "$$Y = \\begin{pmatrix}\n",
    "5 & 0 & 0 & 3 & 0 \\\\\n",
    "0 & 5 & 0 & 0 & 4 \\\\\n",
    "3 & 0 & 4 & 0 & 5 \\\\\n",
    "0 & 5 & 0 & 0 & 3 \\\\\n",
    "0 & 0 & 2 & 0 & 4 \\\\\n",
    "\\end{pmatrix}$$\n",
    "\n",
    "\n",
    "\n",
    "$R$: матриця бінарна, де $r(i,j)=1$ якщо користувач $j$ ставить рейтинг фільму $i$, та $r(i,j)=0$ у зворотньому випадку.\n",
    "\n",
    "$$R = \\begin{pmatrix}\n",
    "1 & 0 & 0 & 1 & 0 \\\\\n",
    "0 & 1 & 0 & 0 & 1 \\\\\n",
    "1 & 0 & 1 & 0 & 1 \\\\\n",
    "0 & 1 & 0 & 0 & 1 \\\\\n",
    "0 & 0 & 1 & 0 & 1 \\\\\n",
    "\\end{pmatrix}$$"
   ]
  },
  {
   "cell_type": "markdown",
   "metadata": {
    "id": "HpdAAvC0CnsM"
   },
   "source": [
    "Отже якщо $r_{ij} = 1$ то у нас є рейтинг фільму $i$ від користувача $j$ -- $y (i,j)$, і є передбачення нашої моделі:\n",
    "$$\\hat{y}_{ij} = x_{i} \\cdot w_{j}$$\n",
    "Дуже схоже на лінійну регресію, проте нам потрібно знайти **не лише параметри для користувачів**, а й **вектори ознак для наших фільмів**. Саме тому, даний алгоритм називається колаборативним, бо у нас є взаємодія між коефіцієнтами наших об'єктів та користувачів, і функція втрат буде схожа, як і для лінійної регресії, проте залежати від всіх параметрів:\n",
    "$$J(\\mathbf{x}^{(1)}, \\ldots, \\mathbf{x}^{(n_m)}, \\mathbf{w}^{(1)}, \\ldots, \\mathbf{w}^{(n_u)}) = \\frac{1}{2} \\sum_{(i,j): r(i,j)=1} \\left( (\\mathbf{w}^{(j)})^T \\mathbf{x}^{(i)} - y^{(i,j)} \\right)^2$$\n"
   ]
  },
  {
   "cell_type": "markdown",
   "metadata": {
    "id": "r5zBEhax9WBZ"
   },
   "source": [
    "І щоб знайти оптимальні значення наших ваг ми знову скористаємось градієнтним спуском, а градієнти функції втрат мають ось такий вигляд:\n",
    "\n",
    "$$\\frac{\\partial J}{\\partial x_k^{(i)}} = \\sum_{j:r(i,j)=1} \\left( (\\mathbf{w}^{(j)})^T \\mathbf{x}^{(i)} - y^{(i,j)} \\right) w_k^{(j)}$$\n",
    "\n",
    "$$\\frac{\\partial J}{\\partial w_k^{(j)}} = \\sum_{i:r(i,j)=1} \\left( (\\mathbf{w}^{(j)})^T \\mathbf{x}^{(i)} - y^{(i,j)} \\right) x_k^{(i)}$$"
   ]
  },
  {
   "cell_type": "markdown",
   "metadata": {
    "id": "CAAdpAoD9WD0"
   },
   "source": [
    "Якщо наша модель страждає на перенавчання, то ми можемо скористатись вже знайомою нам технікою регуляризації.Відповідно градієнти даної функції втрат також будуть мати регуляризаційний доданок:\n",
    "\n",
    "$$\\frac{\\partial J}{\\partial x_k^{(i)}} = \\sum_{j:r(i,j)=1} \\left( (\\mathbf{w}^{(j)})^T \\mathbf{x}^{(i)} - y^{(i,j)} \\right) w_k^{(j)} + \\lambda x_k^{(i)}$$\n",
    "\n",
    "$$\\frac{\\partial J}{\\partial w_k^{(j)}} = \\sum_{i:r(i,j)=1} \\left( (\\mathbf{w}^{(j)})^T \\mathbf{x}^{(i)} - y^{(i,j)} \\right) x_k^{(i)} + \\lambda w_k^{(j)}$$"
   ]
  },
  {
   "cell_type": "markdown",
   "metadata": {
    "id": "KzWdDseW6_Qs"
   },
   "source": [
    "# Типи рекомендаційних систем"
   ]
  },
  {
   "cell_type": "markdown",
   "metadata": {
    "id": "XPWdS7-G7E2I"
   },
   "source": [
    "Рекомендаційні системи у класичному машинному навчанні (ML) зазвичай використовуються для прогнозування рейтингу або інтересу користувача до певних об'єктів, таких як фільми, книги, товари тощо. Основні методи, що використовуються в таких системах, включають:\n",
    "\n",
    "1. **Метод колаборативного фільтрування**: Це один з найпоширеніших підходів до рекомендацій. Він базується на аналізі відносин між користувачами і об'єктами. Цей підхід може бути реалізований через матричні розкладення (наприклад, метод Singular Value Decomposition), метод ближніх сусідів (наприклад, k-найближчих сусідів) або за допомогою моделей згорткових нейронних мереж.\n",
    "\n",
    "2. **Метод заснований на змісті (content-based)**: Цей підхід рекомендації ґрунтується на властивостях самого об'єкта. Наприклад, для рекомендації фільмів, можна аналізувати жанр, акторів, режисерів тощо. Такі характеристики об'єктів зазвичай використовуються для побудови профілю користувача, який потім використовується для рекомендацій.\n",
    "\n",
    "3. **Змішані методи**: Ці методи поєднують підходи колаборативного фільтрування і засновані на змісті для отримання кращих рекомендацій. Наприклад, можна використовувати колаборативне фільтрування для рекомендацій користувачам з подібними смаками, а засновані на змісті методи для рекомендацій нових або непопулярних об'єктів.\n",
    "\n",
    "4. **Matrix Factorization (MF)**: Цей метод полягає в розкладанні матриці рейтингів на добуток двох матриць, які представляють користувачів і об'єкти. Рекомендації потім отримуються з цих факторізованих матриць.\n",
    "\n",
    "Ці методи можуть бути застосовані в різноманітних сферах, включаючи електронну комерцію, стрімінгові сервіси, соціальні мережі та багато інших.\n",
    "\n",
    "Якщо мало інформації рекомендую статью:\n",
    "\n",
    "https://towardsdatascience.com/a-complete-guide-to-recommender-system-tutorial-with-sklearn-surprise-keras-recommender-5e52e8ceace1"
   ]
  },
  {
   "cell_type": "markdown",
   "metadata": {
    "id": "8LD7LBTQdESG"
   },
   "source": [
    "## Метод колаборативного фільтрування"
   ]
  },
  {
   "cell_type": "markdown",
   "metadata": {
    "id": "-NXH9erif8W_"
   },
   "source": [
    "**Метод колаборативного фільтрування (Collaborative Filtering)** - це підхід до рекомендаційних систем, який базується на аналізі відносин між користувачами і об'єктами (товарами, послугами, контентом тощо). Основна ідея полягає в тому, щоб передбачити інтереси користувачів на основі даних про їхню взаємодію з об'єктами, такими як оцінки, перегляди, покупки тощо.\n",
    "\n",
    "Існує два основних підходи до колаборативного фільтрування:\n",
    "\n",
    "- **Колаборативне фільтрування на основі спільних користувачів (User-Based Collaborative Filtering)**: Цей підхід базується на тому, що подібність між користувачами обумовлена їхньою взаємодією з об'єктами. Якщо два користувачі мають схожу історію взаємодії з об'єктами, то ймовірно, що їхні вподобання подібні. Таким чином, для нового користувача рекомендуються об'єкти, що сподобалися подібним користувачам. Алгоритм обчислює схожість між користувачами, наприклад, за допомогою косинусної схожості або інших метрик, і використовує цю інформацію для генерації рекомендацій.\n",
    "\n",
    "Зазвичай, схожість між користувачами обчислюється за допомогою косинусної схожості або підобності Пірсона. Наприклад, якщо ми маємо два вектори оцінок $w_1$  та $w_2$, то їх схожість можна обчислити за допомогою косинусної схожості:\n",
    "\n",
    "$$\\text{similarity}(w_1, w_2) = \\frac{\\|w_1\\| \\|w_2\\|}{w_1 \\cdot w_2}$$\n",
    "\n",
    "\n",
    "\n",
    "- **Колаборативне фільтрування на основі спільних об'єктів (Item-Based Collaborative Filtering)**: У цьому підході вважається, що об'єкти з схожою історією взаємодії з користувачами мають подібні властивості і можуть бути рекомендовані разом. Алгоритм обчислює схожість між об'єктами, наприклад, за допомогою косинусної схожості або кореляції, і рекомендує користувачу об'єкти, які схожі на ті, що він раніше взаємодіяв.\n",
    "\n",
    "Схожість між об'єктами зазвичай обчислюється за допомогою косинусної схожості або інших метрик відстані, таких як кореляція Пірсона або коефіцієнт кореляції Спірмена. Наприклад, якщо ми маємо два вектори рейтингів $x_1$  та $x_2$, то їх схожість можна обчислити за допомогою косинусної схожості:\n",
    "\n",
    "$$\\text{similarity}(x_1, x_2) = \\frac{\\|x_1\\| \\|x_2\\|}{x_1 \\cdot x_2}$$\n",
    "\n",
    "Обидва підходи мають свої переваги та недоліки. Наприклад, колаборативне фільтрування на основі користувачів може страждати від проблеми \"холодного старту\", коли для нового користувача складно зробити рекомендації. З іншого боку, колаборативне фільтрування на основі об'єктів може бути більш ефективним для обробки великої кількості користувачів та об'єктів."
   ]
  },
  {
   "cell_type": "markdown",
   "metadata": {
    "id": "hCEomz4yitMD"
   },
   "source": [
    "![alt text](https://miro.medium.com/v2/resize:fit:1400/1*3ALliiz9hG79_2xopzgyrQ.png)"
   ]
  },
  {
   "cell_type": "markdown",
   "metadata": {
    "id": "0SKJeNpmf8dX"
   },
   "source": [
    "![alt text](https://www.researchgate.net/publication/355218515/figure/fig2/AS:1079169563787266@1634305482033/The-collaborative-filtering-algorithms-a-user-based-b-item-based.png)"
   ]
  },
  {
   "cell_type": "code",
   "execution_count": 1,
   "metadata": {
    "colab": {
     "base_uri": "https://localhost:8080/"
    },
    "id": "5AecLeGweYid",
    "outputId": "a47887f2-8c84-46ef-a354-22079f5db065"
   },
   "outputs": [
    {
     "name": "stdout",
     "output_type": "stream",
     "text": [
      "Collecting scikit-surprise\n",
      "  Downloading scikit-surprise-1.1.3.tar.gz (771 kB)\n",
      "\u001b[?25l     \u001b[90m━━━━━━━━━━━━━━━━━━━━━━━━━━━━━━━━━━━━━━━━\u001b[0m \u001b[32m0.0/772.0 kB\u001b[0m \u001b[31m?\u001b[0m eta \u001b[36m-:--:--\u001b[0m\r",
      "\u001b[2K     \u001b[91m━━━━━━━\u001b[0m\u001b[90m╺\u001b[0m\u001b[90m━━━━━━━━━━━━━━━━━━━━━━━━━━━━━━━━\u001b[0m \u001b[32m143.4/772.0 kB\u001b[0m \u001b[31m4.2 MB/s\u001b[0m eta \u001b[36m0:00:01\u001b[0m\r",
      "\u001b[2K     \u001b[90m━━━━━━━━━━━━━━━━━━━━━━━━━━━━━━━━━━━━━━━━\u001b[0m \u001b[32m772.0/772.0 kB\u001b[0m \u001b[31m10.9 MB/s\u001b[0m eta \u001b[36m0:00:00\u001b[0m\n",
      "\u001b[?25h  Preparing metadata (setup.py) ... \u001b[?25l\u001b[?25hdone\n",
      "Requirement already satisfied: joblib>=1.0.0 in /usr/local/lib/python3.10/dist-packages (from scikit-surprise) (1.3.2)\n",
      "Requirement already satisfied: numpy>=1.17.3 in /usr/local/lib/python3.10/dist-packages (from scikit-surprise) (1.23.5)\n",
      "Requirement already satisfied: scipy>=1.3.2 in /usr/local/lib/python3.10/dist-packages (from scikit-surprise) (1.11.4)\n",
      "Building wheels for collected packages: scikit-surprise\n",
      "  Building wheel for scikit-surprise (setup.py) ... \u001b[?25l\u001b[?25hdone\n",
      "  Created wheel for scikit-surprise: filename=scikit_surprise-1.1.3-cp310-cp310-linux_x86_64.whl size=3162675 sha256=6f836da379b6bd800fd0931e0ebb38c909c5c60f7e2cc4c66ef1ffa3dc7f6099\n",
      "  Stored in directory: /root/.cache/pip/wheels/a5/ca/a8/4e28def53797fdc4363ca4af740db15a9c2f1595ebc51fb445\n",
      "Successfully built scikit-surprise\n",
      "Installing collected packages: scikit-surprise\n",
      "Successfully installed scikit-surprise-1.1.3\n"
     ]
    }
   ],
   "source": [
    "pip install scikit-surprise==1.1.3"
   ]
  },
  {
   "cell_type": "code",
   "execution_count": 2,
   "metadata": {
    "colab": {
     "base_uri": "https://localhost:8080/",
     "height": 36
    },
    "id": "IM7oG8scJrLe",
    "outputId": "2de3f929-55c4-43b6-b7c1-b6ea7d7888ca"
   },
   "outputs": [
    {
     "data": {
      "application/vnd.google.colaboratory.intrinsic+json": {
       "type": "string"
      },
      "text/plain": [
       "'1.1.3'"
      ]
     },
     "execution_count": 2,
     "metadata": {},
     "output_type": "execute_result"
    }
   ],
   "source": [
    "#https://surprise.readthedocs.io/en/stable/index.html\n",
    "import surprise\n",
    "surprise.__version__"
   ]
  },
  {
   "cell_type": "code",
   "execution_count": 3,
   "metadata": {
    "id": "iaHInXK134Dj"
   },
   "outputs": [],
   "source": [
    "from surprise import Dataset\n",
    "from surprise.model_selection import train_test_split\n",
    "from surprise import KNNBasic\n",
    "from surprise import accuracy"
   ]
  },
  {
   "cell_type": "code",
   "execution_count": 4,
   "metadata": {
    "colab": {
     "base_uri": "https://localhost:8080/"
    },
    "id": "NZKVZw7sIzyb",
    "outputId": "c8c1a3cf-1904-48cc-d633-c1664e8821d9"
   },
   "outputs": [
    {
     "name": "stdout",
     "output_type": "stream",
     "text": [
      "Dataset ml-100k could not be found. Do you want to download it? [Y/n] Y\n",
      "Trying to download dataset from https://files.grouplens.org/datasets/movielens/ml-100k.zip...\n",
      "Done! Dataset ml-100k has been saved to /root/.surprise_data/ml-100k\n"
     ]
    }
   ],
   "source": [
    "# Завантажимо набір даних MovieLens 100K\n",
    "data = Dataset.load_builtin('ml-100k')\n",
    "\n",
    "'''\n",
    "ml-100k - це набір даних MovieLens 100K, який є одним з найпопулярніших наборів даних для рекомендаційних систем. Він містить відгуки користувачів про фільми з веб-сайту MovieLens.\n",
    "Набір даних складається з рейтингів фільмів, які користувачі присвоюють фільмам, а також додаткової інформації про фільми та користувачів.\n",
    "Набір даних MovieLens 100K містить близько 100 000 рейтингів, які користувачі дали понад 9000 фільмам.\n",
    "\n",
    "Кожен рейтинг представлений у вигляді трьох складових:\n",
    "- ідентифікатор користувача,\n",
    "- ідентифікатор фільму\n",
    "- та оцінка, яку користувач поставив фільму.\n",
    "\n",
    "Цей набір даних часто використовується для розвитку та тестування рекомендаційних систем, а також для досліджень у галузі машинного навчання та обробки даних.\n",
    "'''\n",
    "\n",
    "# Розділимо дані на навчальний та тестовий набори\n",
    "trainset, testset = train_test_split(data, test_size=0.2)"
   ]
  },
  {
   "cell_type": "code",
   "execution_count": 5,
   "metadata": {
    "colab": {
     "base_uri": "https://localhost:8080/",
     "height": 206
    },
    "id": "OwOUJu_NJJL8",
    "outputId": "58ccfb72-d10a-4712-e5a7-02890ed545b4"
   },
   "outputs": [
    {
     "data": {
      "text/html": [
       "\n",
       "  <div id=\"df-59439139-abd2-42f9-8a05-9275a154c8f3\" class=\"colab-df-container\">\n",
       "    <div>\n",
       "<style scoped>\n",
       "    .dataframe tbody tr th:only-of-type {\n",
       "        vertical-align: middle;\n",
       "    }\n",
       "\n",
       "    .dataframe tbody tr th {\n",
       "        vertical-align: top;\n",
       "    }\n",
       "\n",
       "    .dataframe thead th {\n",
       "        text-align: right;\n",
       "    }\n",
       "</style>\n",
       "<table border=\"1\" class=\"dataframe\">\n",
       "  <thead>\n",
       "    <tr style=\"text-align: right;\">\n",
       "      <th></th>\n",
       "      <th>userId</th>\n",
       "      <th>itemId</th>\n",
       "      <th>rating</th>\n",
       "    </tr>\n",
       "  </thead>\n",
       "  <tbody>\n",
       "    <tr>\n",
       "      <th>0</th>\n",
       "      <td>11</td>\n",
       "      <td>730</td>\n",
       "      <td>3.0</td>\n",
       "    </tr>\n",
       "    <tr>\n",
       "      <th>1</th>\n",
       "      <td>11</td>\n",
       "      <td>726</td>\n",
       "      <td>3.0</td>\n",
       "    </tr>\n",
       "    <tr>\n",
       "      <th>2</th>\n",
       "      <td>11</td>\n",
       "      <td>720</td>\n",
       "      <td>1.0</td>\n",
       "    </tr>\n",
       "    <tr>\n",
       "      <th>3</th>\n",
       "      <td>11</td>\n",
       "      <td>734</td>\n",
       "      <td>3.0</td>\n",
       "    </tr>\n",
       "    <tr>\n",
       "      <th>4</th>\n",
       "      <td>11</td>\n",
       "      <td>735</td>\n",
       "      <td>3.0</td>\n",
       "    </tr>\n",
       "  </tbody>\n",
       "</table>\n",
       "</div>\n",
       "    <div class=\"colab-df-buttons\">\n",
       "\n",
       "  <div class=\"colab-df-container\">\n",
       "    <button class=\"colab-df-convert\" onclick=\"convertToInteractive('df-59439139-abd2-42f9-8a05-9275a154c8f3')\"\n",
       "            title=\"Convert this dataframe to an interactive table.\"\n",
       "            style=\"display:none;\">\n",
       "\n",
       "  <svg xmlns=\"http://www.w3.org/2000/svg\" height=\"24px\" viewBox=\"0 -960 960 960\">\n",
       "    <path d=\"M120-120v-720h720v720H120Zm60-500h600v-160H180v160Zm220 220h160v-160H400v160Zm0 220h160v-160H400v160ZM180-400h160v-160H180v160Zm440 0h160v-160H620v160ZM180-180h160v-160H180v160Zm440 0h160v-160H620v160Z\"/>\n",
       "  </svg>\n",
       "    </button>\n",
       "\n",
       "  <style>\n",
       "    .colab-df-container {\n",
       "      display:flex;\n",
       "      gap: 12px;\n",
       "    }\n",
       "\n",
       "    .colab-df-convert {\n",
       "      background-color: #E8F0FE;\n",
       "      border: none;\n",
       "      border-radius: 50%;\n",
       "      cursor: pointer;\n",
       "      display: none;\n",
       "      fill: #1967D2;\n",
       "      height: 32px;\n",
       "      padding: 0 0 0 0;\n",
       "      width: 32px;\n",
       "    }\n",
       "\n",
       "    .colab-df-convert:hover {\n",
       "      background-color: #E2EBFA;\n",
       "      box-shadow: 0px 1px 2px rgba(60, 64, 67, 0.3), 0px 1px 3px 1px rgba(60, 64, 67, 0.15);\n",
       "      fill: #174EA6;\n",
       "    }\n",
       "\n",
       "    .colab-df-buttons div {\n",
       "      margin-bottom: 4px;\n",
       "    }\n",
       "\n",
       "    [theme=dark] .colab-df-convert {\n",
       "      background-color: #3B4455;\n",
       "      fill: #D2E3FC;\n",
       "    }\n",
       "\n",
       "    [theme=dark] .colab-df-convert:hover {\n",
       "      background-color: #434B5C;\n",
       "      box-shadow: 0px 1px 3px 1px rgba(0, 0, 0, 0.15);\n",
       "      filter: drop-shadow(0px 1px 2px rgba(0, 0, 0, 0.3));\n",
       "      fill: #FFFFFF;\n",
       "    }\n",
       "  </style>\n",
       "\n",
       "    <script>\n",
       "      const buttonEl =\n",
       "        document.querySelector('#df-59439139-abd2-42f9-8a05-9275a154c8f3 button.colab-df-convert');\n",
       "      buttonEl.style.display =\n",
       "        google.colab.kernel.accessAllowed ? 'block' : 'none';\n",
       "\n",
       "      async function convertToInteractive(key) {\n",
       "        const element = document.querySelector('#df-59439139-abd2-42f9-8a05-9275a154c8f3');\n",
       "        const dataTable =\n",
       "          await google.colab.kernel.invokeFunction('convertToInteractive',\n",
       "                                                    [key], {});\n",
       "        if (!dataTable) return;\n",
       "\n",
       "        const docLinkHtml = 'Like what you see? Visit the ' +\n",
       "          '<a target=\"_blank\" href=https://colab.research.google.com/notebooks/data_table.ipynb>data table notebook</a>'\n",
       "          + ' to learn more about interactive tables.';\n",
       "        element.innerHTML = '';\n",
       "        dataTable['output_type'] = 'display_data';\n",
       "        await google.colab.output.renderOutput(dataTable, element);\n",
       "        const docLink = document.createElement('div');\n",
       "        docLink.innerHTML = docLinkHtml;\n",
       "        element.appendChild(docLink);\n",
       "      }\n",
       "    </script>\n",
       "  </div>\n",
       "\n",
       "\n",
       "<div id=\"df-426bdae6-cbd4-414a-83c5-11537037298a\">\n",
       "  <button class=\"colab-df-quickchart\" onclick=\"quickchart('df-426bdae6-cbd4-414a-83c5-11537037298a')\"\n",
       "            title=\"Suggest charts\"\n",
       "            style=\"display:none;\">\n",
       "\n",
       "<svg xmlns=\"http://www.w3.org/2000/svg\" height=\"24px\"viewBox=\"0 0 24 24\"\n",
       "     width=\"24px\">\n",
       "    <g>\n",
       "        <path d=\"M19 3H5c-1.1 0-2 .9-2 2v14c0 1.1.9 2 2 2h14c1.1 0 2-.9 2-2V5c0-1.1-.9-2-2-2zM9 17H7v-7h2v7zm4 0h-2V7h2v10zm4 0h-2v-4h2v4z\"/>\n",
       "    </g>\n",
       "</svg>\n",
       "  </button>\n",
       "\n",
       "<style>\n",
       "  .colab-df-quickchart {\n",
       "      --bg-color: #E8F0FE;\n",
       "      --fill-color: #1967D2;\n",
       "      --hover-bg-color: #E2EBFA;\n",
       "      --hover-fill-color: #174EA6;\n",
       "      --disabled-fill-color: #AAA;\n",
       "      --disabled-bg-color: #DDD;\n",
       "  }\n",
       "\n",
       "  [theme=dark] .colab-df-quickchart {\n",
       "      --bg-color: #3B4455;\n",
       "      --fill-color: #D2E3FC;\n",
       "      --hover-bg-color: #434B5C;\n",
       "      --hover-fill-color: #FFFFFF;\n",
       "      --disabled-bg-color: #3B4455;\n",
       "      --disabled-fill-color: #666;\n",
       "  }\n",
       "\n",
       "  .colab-df-quickchart {\n",
       "    background-color: var(--bg-color);\n",
       "    border: none;\n",
       "    border-radius: 50%;\n",
       "    cursor: pointer;\n",
       "    display: none;\n",
       "    fill: var(--fill-color);\n",
       "    height: 32px;\n",
       "    padding: 0;\n",
       "    width: 32px;\n",
       "  }\n",
       "\n",
       "  .colab-df-quickchart:hover {\n",
       "    background-color: var(--hover-bg-color);\n",
       "    box-shadow: 0 1px 2px rgba(60, 64, 67, 0.3), 0 1px 3px 1px rgba(60, 64, 67, 0.15);\n",
       "    fill: var(--button-hover-fill-color);\n",
       "  }\n",
       "\n",
       "  .colab-df-quickchart-complete:disabled,\n",
       "  .colab-df-quickchart-complete:disabled:hover {\n",
       "    background-color: var(--disabled-bg-color);\n",
       "    fill: var(--disabled-fill-color);\n",
       "    box-shadow: none;\n",
       "  }\n",
       "\n",
       "  .colab-df-spinner {\n",
       "    border: 2px solid var(--fill-color);\n",
       "    border-color: transparent;\n",
       "    border-bottom-color: var(--fill-color);\n",
       "    animation:\n",
       "      spin 1s steps(1) infinite;\n",
       "  }\n",
       "\n",
       "  @keyframes spin {\n",
       "    0% {\n",
       "      border-color: transparent;\n",
       "      border-bottom-color: var(--fill-color);\n",
       "      border-left-color: var(--fill-color);\n",
       "    }\n",
       "    20% {\n",
       "      border-color: transparent;\n",
       "      border-left-color: var(--fill-color);\n",
       "      border-top-color: var(--fill-color);\n",
       "    }\n",
       "    30% {\n",
       "      border-color: transparent;\n",
       "      border-left-color: var(--fill-color);\n",
       "      border-top-color: var(--fill-color);\n",
       "      border-right-color: var(--fill-color);\n",
       "    }\n",
       "    40% {\n",
       "      border-color: transparent;\n",
       "      border-right-color: var(--fill-color);\n",
       "      border-top-color: var(--fill-color);\n",
       "    }\n",
       "    60% {\n",
       "      border-color: transparent;\n",
       "      border-right-color: var(--fill-color);\n",
       "    }\n",
       "    80% {\n",
       "      border-color: transparent;\n",
       "      border-right-color: var(--fill-color);\n",
       "      border-bottom-color: var(--fill-color);\n",
       "    }\n",
       "    90% {\n",
       "      border-color: transparent;\n",
       "      border-bottom-color: var(--fill-color);\n",
       "    }\n",
       "  }\n",
       "</style>\n",
       "\n",
       "  <script>\n",
       "    async function quickchart(key) {\n",
       "      const quickchartButtonEl =\n",
       "        document.querySelector('#' + key + ' button');\n",
       "      quickchartButtonEl.disabled = true;  // To prevent multiple clicks.\n",
       "      quickchartButtonEl.classList.add('colab-df-spinner');\n",
       "      try {\n",
       "        const charts = await google.colab.kernel.invokeFunction(\n",
       "            'suggestCharts', [key], {});\n",
       "      } catch (error) {\n",
       "        console.error('Error during call to suggestCharts:', error);\n",
       "      }\n",
       "      quickchartButtonEl.classList.remove('colab-df-spinner');\n",
       "      quickchartButtonEl.classList.add('colab-df-quickchart-complete');\n",
       "    }\n",
       "    (() => {\n",
       "      let quickchartButtonEl =\n",
       "        document.querySelector('#df-426bdae6-cbd4-414a-83c5-11537037298a button');\n",
       "      quickchartButtonEl.style.display =\n",
       "        google.colab.kernel.accessAllowed ? 'block' : 'none';\n",
       "    })();\n",
       "  </script>\n",
       "</div>\n",
       "    </div>\n",
       "  </div>\n"
      ],
      "text/plain": [
       "  userId itemId  rating\n",
       "0     11    730     3.0\n",
       "1     11    726     3.0\n",
       "2     11    720     1.0\n",
       "3     11    734     3.0\n",
       "4     11    735     3.0"
      ]
     },
     "execution_count": 5,
     "metadata": {},
     "output_type": "execute_result"
    }
   ],
   "source": [
    "import pandas as pd\n",
    "train_data = trainset.build_testset()\n",
    "train_df = pd.DataFrame(train_data, columns=['userId', 'itemId', 'rating'])\n",
    "train_df.head()"
   ]
  },
  {
   "cell_type": "code",
   "execution_count": 6,
   "metadata": {
    "colab": {
     "base_uri": "https://localhost:8080/",
     "height": 206
    },
    "id": "RqCDHDrZJK7N",
    "outputId": "974b7614-c305-4b6b-a089-c6a335423eaf"
   },
   "outputs": [
    {
     "data": {
      "text/html": [
       "\n",
       "  <div id=\"df-5c56dc41-a2e5-424c-af5c-0da56df69298\" class=\"colab-df-container\">\n",
       "    <div>\n",
       "<style scoped>\n",
       "    .dataframe tbody tr th:only-of-type {\n",
       "        vertical-align: middle;\n",
       "    }\n",
       "\n",
       "    .dataframe tbody tr th {\n",
       "        vertical-align: top;\n",
       "    }\n",
       "\n",
       "    .dataframe thead th {\n",
       "        text-align: right;\n",
       "    }\n",
       "</style>\n",
       "<table border=\"1\" class=\"dataframe\">\n",
       "  <thead>\n",
       "    <tr style=\"text-align: right;\">\n",
       "      <th></th>\n",
       "      <th>userId</th>\n",
       "      <th>itemId</th>\n",
       "      <th>rating</th>\n",
       "    </tr>\n",
       "  </thead>\n",
       "  <tbody>\n",
       "    <tr>\n",
       "      <th>0</th>\n",
       "      <td>409</td>\n",
       "      <td>657</td>\n",
       "      <td>3.0</td>\n",
       "    </tr>\n",
       "    <tr>\n",
       "      <th>1</th>\n",
       "      <td>843</td>\n",
       "      <td>199</td>\n",
       "      <td>3.0</td>\n",
       "    </tr>\n",
       "    <tr>\n",
       "      <th>2</th>\n",
       "      <td>752</td>\n",
       "      <td>900</td>\n",
       "      <td>4.0</td>\n",
       "    </tr>\n",
       "    <tr>\n",
       "      <th>3</th>\n",
       "      <td>715</td>\n",
       "      <td>1188</td>\n",
       "      <td>2.0</td>\n",
       "    </tr>\n",
       "    <tr>\n",
       "      <th>4</th>\n",
       "      <td>655</td>\n",
       "      <td>1067</td>\n",
       "      <td>2.0</td>\n",
       "    </tr>\n",
       "  </tbody>\n",
       "</table>\n",
       "</div>\n",
       "    <div class=\"colab-df-buttons\">\n",
       "\n",
       "  <div class=\"colab-df-container\">\n",
       "    <button class=\"colab-df-convert\" onclick=\"convertToInteractive('df-5c56dc41-a2e5-424c-af5c-0da56df69298')\"\n",
       "            title=\"Convert this dataframe to an interactive table.\"\n",
       "            style=\"display:none;\">\n",
       "\n",
       "  <svg xmlns=\"http://www.w3.org/2000/svg\" height=\"24px\" viewBox=\"0 -960 960 960\">\n",
       "    <path d=\"M120-120v-720h720v720H120Zm60-500h600v-160H180v160Zm220 220h160v-160H400v160Zm0 220h160v-160H400v160ZM180-400h160v-160H180v160Zm440 0h160v-160H620v160ZM180-180h160v-160H180v160Zm440 0h160v-160H620v160Z\"/>\n",
       "  </svg>\n",
       "    </button>\n",
       "\n",
       "  <style>\n",
       "    .colab-df-container {\n",
       "      display:flex;\n",
       "      gap: 12px;\n",
       "    }\n",
       "\n",
       "    .colab-df-convert {\n",
       "      background-color: #E8F0FE;\n",
       "      border: none;\n",
       "      border-radius: 50%;\n",
       "      cursor: pointer;\n",
       "      display: none;\n",
       "      fill: #1967D2;\n",
       "      height: 32px;\n",
       "      padding: 0 0 0 0;\n",
       "      width: 32px;\n",
       "    }\n",
       "\n",
       "    .colab-df-convert:hover {\n",
       "      background-color: #E2EBFA;\n",
       "      box-shadow: 0px 1px 2px rgba(60, 64, 67, 0.3), 0px 1px 3px 1px rgba(60, 64, 67, 0.15);\n",
       "      fill: #174EA6;\n",
       "    }\n",
       "\n",
       "    .colab-df-buttons div {\n",
       "      margin-bottom: 4px;\n",
       "    }\n",
       "\n",
       "    [theme=dark] .colab-df-convert {\n",
       "      background-color: #3B4455;\n",
       "      fill: #D2E3FC;\n",
       "    }\n",
       "\n",
       "    [theme=dark] .colab-df-convert:hover {\n",
       "      background-color: #434B5C;\n",
       "      box-shadow: 0px 1px 3px 1px rgba(0, 0, 0, 0.15);\n",
       "      filter: drop-shadow(0px 1px 2px rgba(0, 0, 0, 0.3));\n",
       "      fill: #FFFFFF;\n",
       "    }\n",
       "  </style>\n",
       "\n",
       "    <script>\n",
       "      const buttonEl =\n",
       "        document.querySelector('#df-5c56dc41-a2e5-424c-af5c-0da56df69298 button.colab-df-convert');\n",
       "      buttonEl.style.display =\n",
       "        google.colab.kernel.accessAllowed ? 'block' : 'none';\n",
       "\n",
       "      async function convertToInteractive(key) {\n",
       "        const element = document.querySelector('#df-5c56dc41-a2e5-424c-af5c-0da56df69298');\n",
       "        const dataTable =\n",
       "          await google.colab.kernel.invokeFunction('convertToInteractive',\n",
       "                                                    [key], {});\n",
       "        if (!dataTable) return;\n",
       "\n",
       "        const docLinkHtml = 'Like what you see? Visit the ' +\n",
       "          '<a target=\"_blank\" href=https://colab.research.google.com/notebooks/data_table.ipynb>data table notebook</a>'\n",
       "          + ' to learn more about interactive tables.';\n",
       "        element.innerHTML = '';\n",
       "        dataTable['output_type'] = 'display_data';\n",
       "        await google.colab.output.renderOutput(dataTable, element);\n",
       "        const docLink = document.createElement('div');\n",
       "        docLink.innerHTML = docLinkHtml;\n",
       "        element.appendChild(docLink);\n",
       "      }\n",
       "    </script>\n",
       "  </div>\n",
       "\n",
       "\n",
       "<div id=\"df-b81e07fd-c33c-4dc2-b4bf-8de7542e1fcb\">\n",
       "  <button class=\"colab-df-quickchart\" onclick=\"quickchart('df-b81e07fd-c33c-4dc2-b4bf-8de7542e1fcb')\"\n",
       "            title=\"Suggest charts\"\n",
       "            style=\"display:none;\">\n",
       "\n",
       "<svg xmlns=\"http://www.w3.org/2000/svg\" height=\"24px\"viewBox=\"0 0 24 24\"\n",
       "     width=\"24px\">\n",
       "    <g>\n",
       "        <path d=\"M19 3H5c-1.1 0-2 .9-2 2v14c0 1.1.9 2 2 2h14c1.1 0 2-.9 2-2V5c0-1.1-.9-2-2-2zM9 17H7v-7h2v7zm4 0h-2V7h2v10zm4 0h-2v-4h2v4z\"/>\n",
       "    </g>\n",
       "</svg>\n",
       "  </button>\n",
       "\n",
       "<style>\n",
       "  .colab-df-quickchart {\n",
       "      --bg-color: #E8F0FE;\n",
       "      --fill-color: #1967D2;\n",
       "      --hover-bg-color: #E2EBFA;\n",
       "      --hover-fill-color: #174EA6;\n",
       "      --disabled-fill-color: #AAA;\n",
       "      --disabled-bg-color: #DDD;\n",
       "  }\n",
       "\n",
       "  [theme=dark] .colab-df-quickchart {\n",
       "      --bg-color: #3B4455;\n",
       "      --fill-color: #D2E3FC;\n",
       "      --hover-bg-color: #434B5C;\n",
       "      --hover-fill-color: #FFFFFF;\n",
       "      --disabled-bg-color: #3B4455;\n",
       "      --disabled-fill-color: #666;\n",
       "  }\n",
       "\n",
       "  .colab-df-quickchart {\n",
       "    background-color: var(--bg-color);\n",
       "    border: none;\n",
       "    border-radius: 50%;\n",
       "    cursor: pointer;\n",
       "    display: none;\n",
       "    fill: var(--fill-color);\n",
       "    height: 32px;\n",
       "    padding: 0;\n",
       "    width: 32px;\n",
       "  }\n",
       "\n",
       "  .colab-df-quickchart:hover {\n",
       "    background-color: var(--hover-bg-color);\n",
       "    box-shadow: 0 1px 2px rgba(60, 64, 67, 0.3), 0 1px 3px 1px rgba(60, 64, 67, 0.15);\n",
       "    fill: var(--button-hover-fill-color);\n",
       "  }\n",
       "\n",
       "  .colab-df-quickchart-complete:disabled,\n",
       "  .colab-df-quickchart-complete:disabled:hover {\n",
       "    background-color: var(--disabled-bg-color);\n",
       "    fill: var(--disabled-fill-color);\n",
       "    box-shadow: none;\n",
       "  }\n",
       "\n",
       "  .colab-df-spinner {\n",
       "    border: 2px solid var(--fill-color);\n",
       "    border-color: transparent;\n",
       "    border-bottom-color: var(--fill-color);\n",
       "    animation:\n",
       "      spin 1s steps(1) infinite;\n",
       "  }\n",
       "\n",
       "  @keyframes spin {\n",
       "    0% {\n",
       "      border-color: transparent;\n",
       "      border-bottom-color: var(--fill-color);\n",
       "      border-left-color: var(--fill-color);\n",
       "    }\n",
       "    20% {\n",
       "      border-color: transparent;\n",
       "      border-left-color: var(--fill-color);\n",
       "      border-top-color: var(--fill-color);\n",
       "    }\n",
       "    30% {\n",
       "      border-color: transparent;\n",
       "      border-left-color: var(--fill-color);\n",
       "      border-top-color: var(--fill-color);\n",
       "      border-right-color: var(--fill-color);\n",
       "    }\n",
       "    40% {\n",
       "      border-color: transparent;\n",
       "      border-right-color: var(--fill-color);\n",
       "      border-top-color: var(--fill-color);\n",
       "    }\n",
       "    60% {\n",
       "      border-color: transparent;\n",
       "      border-right-color: var(--fill-color);\n",
       "    }\n",
       "    80% {\n",
       "      border-color: transparent;\n",
       "      border-right-color: var(--fill-color);\n",
       "      border-bottom-color: var(--fill-color);\n",
       "    }\n",
       "    90% {\n",
       "      border-color: transparent;\n",
       "      border-bottom-color: var(--fill-color);\n",
       "    }\n",
       "  }\n",
       "</style>\n",
       "\n",
       "  <script>\n",
       "    async function quickchart(key) {\n",
       "      const quickchartButtonEl =\n",
       "        document.querySelector('#' + key + ' button');\n",
       "      quickchartButtonEl.disabled = true;  // To prevent multiple clicks.\n",
       "      quickchartButtonEl.classList.add('colab-df-spinner');\n",
       "      try {\n",
       "        const charts = await google.colab.kernel.invokeFunction(\n",
       "            'suggestCharts', [key], {});\n",
       "      } catch (error) {\n",
       "        console.error('Error during call to suggestCharts:', error);\n",
       "      }\n",
       "      quickchartButtonEl.classList.remove('colab-df-spinner');\n",
       "      quickchartButtonEl.classList.add('colab-df-quickchart-complete');\n",
       "    }\n",
       "    (() => {\n",
       "      let quickchartButtonEl =\n",
       "        document.querySelector('#df-b81e07fd-c33c-4dc2-b4bf-8de7542e1fcb button');\n",
       "      quickchartButtonEl.style.display =\n",
       "        google.colab.kernel.accessAllowed ? 'block' : 'none';\n",
       "    })();\n",
       "  </script>\n",
       "</div>\n",
       "    </div>\n",
       "  </div>\n"
      ],
      "text/plain": [
       "  userId itemId  rating\n",
       "0    409    657     3.0\n",
       "1    843    199     3.0\n",
       "2    752    900     4.0\n",
       "3    715   1188     2.0\n",
       "4    655   1067     2.0"
      ]
     },
     "execution_count": 6,
     "metadata": {},
     "output_type": "execute_result"
    }
   ],
   "source": [
    "test_df = pd.DataFrame(testset, columns=['userId', 'itemId', 'rating'])\n",
    "test_df.head()"
   ]
  },
  {
   "cell_type": "code",
   "execution_count": 7,
   "metadata": {
    "colab": {
     "base_uri": "https://localhost:8080/"
    },
    "id": "kvJK9DSZCUch",
    "outputId": "55b2b3bd-0d0b-42ef-d9bc-dd2315b08254"
   },
   "outputs": [
    {
     "name": "stdout",
     "output_type": "stream",
     "text": [
      "Computing the msd similarity matrix...\n",
      "Done computing similarity matrix.\n",
      "RMSE: 0.9774\n"
     ]
    },
    {
     "data": {
      "text/plain": [
       "0.9774465349080073"
      ]
     },
     "execution_count": 7,
     "metadata": {},
     "output_type": "execute_result"
    }
   ],
   "source": [
    "# Ініціалізуємо та навчимо модель колаборативного фільтрування User-Based\n",
    "algo_user_based = KNNBasic(sim_options={'user_based': True})\n",
    "algo_user_based.fit(trainset)\n",
    "# Здійснимо прогнози на тестовому наборі\n",
    "predictions_user_based = algo_user_based.test(testset)\n",
    "# Оцінимо точність моделі\n",
    "accuracy.rmse(predictions_user_based)"
   ]
  },
  {
   "cell_type": "code",
   "execution_count": 9,
   "metadata": {
    "colab": {
     "base_uri": "https://localhost:8080/"
    },
    "id": "oQqZcyrNLCjs",
    "outputId": "7e47b5c5-aced-493c-9474-2472c7e23b19"
   },
   "outputs": [
    {
     "data": {
      "text/plain": [
       "[Prediction(uid='409', iid='657', r_ui=3.0, est=4.33099785002213, details={'actual_k': 40, 'was_impossible': False}),\n",
       " Prediction(uid='843', iid='199', r_ui=3.0, est=4.122797939335082, details={'actual_k': 40, 'was_impossible': False}),\n",
       " Prediction(uid='752', iid='900', r_ui=4.0, est=3.583565580611443, details={'actual_k': 33, 'was_impossible': False}),\n",
       " Prediction(uid='715', iid='1188', r_ui=2.0, est=2.961993137912369, details={'actual_k': 36, 'was_impossible': False}),\n",
       " Prediction(uid='655', iid='1067', r_ui=2.0, est=3.539748626002214, details={'actual_k': 35, 'was_impossible': False})]"
      ]
     },
     "execution_count": 9,
     "metadata": {},
     "output_type": "execute_result"
    }
   ],
   "source": [
    "predictions_user_based[0:5]"
   ]
  },
  {
   "cell_type": "code",
   "execution_count": 11,
   "metadata": {
    "colab": {
     "base_uri": "https://localhost:8080/"
    },
    "id": "QJ06oMOgKi5a",
    "outputId": "a92d7eb7-965d-478a-cac0-9d1ad354e657"
   },
   "outputs": [
    {
     "name": "stdout",
     "output_type": "stream",
     "text": [
      "Рекомендований рейтинг для користувача 130 та об'єкта 456: 3.5288\n",
      "Рекомендований рейтинг для користувача 130 та об'єкта 789: 3.5288\n",
      "Рекомендований рейтинг для користувача 130 та об'єкта 987: 3.5288\n"
     ]
    }
   ],
   "source": [
    "userId = 130\n",
    "\n",
    "# Створимо список об'єктів, для яких ми хочемо отримати рекомендації. Наприклад, це можуть бути фільми, які користувач ще не переглядав\n",
    "items_to_recommend = [456, 789, 987]\n",
    "\n",
    "# Для кожного об'єкта викличемо метод predict(), щоб отримати прогнозований рейтинг користувача\n",
    "for itemId in items_to_recommend:\n",
    "    prediction = algo_user_based.predict(userId, itemId)\n",
    "    print(f\"Рекомендований рейтинг для користувача {userId} та об'єкта {itemId}: {prediction.est}\")"
   ]
  },
  {
   "cell_type": "code",
   "execution_count": 13,
   "metadata": {
    "colab": {
     "base_uri": "https://localhost:8080/"
    },
    "id": "yRJdIi-2I4ZV",
    "outputId": "f2785b34-7497-42b7-ee43-1a65978b1e2a"
   },
   "outputs": [
    {
     "name": "stdout",
     "output_type": "stream",
     "text": [
      "Computing the msd similarity matrix...\n",
      "Done computing similarity matrix.\n",
      "RMSE: 0.9776\n"
     ]
    },
    {
     "data": {
      "text/plain": [
       "0.977644113160082"
      ]
     },
     "execution_count": 13,
     "metadata": {},
     "output_type": "execute_result"
    }
   ],
   "source": [
    "# Ініціалізуємо та навчимо модель колаборативного фільтрування Item-Based\n",
    "algo_item_based = KNNBasic(sim_options={'user_based': False})\n",
    "algo_item_based.fit(trainset)\n",
    "# Здійснимо прогнози на тестовому наборі\n",
    "predictions_item_based = algo_item_based.test(testset)\n",
    "# Оцінимо точність моделі\n",
    "accuracy.rmse(predictions_item_based)"
   ]
  },
  {
   "cell_type": "markdown",
   "metadata": {
    "id": "fm62kZnxdLDU"
   },
   "source": [
    "## Метод заснований на змісті (content-based)"
   ]
  },
  {
   "cell_type": "markdown",
   "metadata": {
    "id": "Fnz3e7UKLgbm"
   },
   "source": [
    "Content-Based Filtering (CBF) - це підхід до побудови рекомендаційних систем, при якому рекомендації формуються на основі характеристик об'єктів (наприклад, фільмів, товарів). Цей метод аналізує властивості або контент кожного об'єкта та враховує вподобання користувача для створення рекомендацій.\n",
    "\n",
    "Наприклад, у випадку фільмів, характеристики можуть включати жанр, режисера, акторів, рік випуску тощо. Система аналізує ці характеристики та рекомендує користувачеві фільми, які відповідають його чи її вподобанням.\n",
    "\n",
    "Основна ідея застосування CBF полягає в тому, щоб рекомендувати об'єкти, які мають подібний зміст чи характеристики до тих, що користувач вже оцінив чи виразив інтерес до них.\n",
    "\n",
    "Загалом, Content-Based Filtering використовує аналіз контенту об'єктів для створення персоналізованих рекомендацій для користувачів."
   ]
  },
  {
   "cell_type": "code",
   "execution_count": 14,
   "metadata": {
    "colab": {
     "base_uri": "https://localhost:8080/"
    },
    "id": "bFEqjCneMrMo",
    "outputId": "6391eff7-b697-4a96-ac5b-ec5c4148f814"
   },
   "outputs": [
    {
     "name": "stdout",
     "output_type": "stream",
     "text": [
      "1    Movie 2\n",
      "2    Movie 3\n",
      "3    Movie 4\n",
      "4    Movie 5\n",
      "Name: Title, dtype: object\n"
     ]
    }
   ],
   "source": [
    "import pandas as pd\n",
    "from sklearn.feature_extraction.text import TfidfVectorizer\n",
    "from sklearn.metrics.pairwise import linear_kernel\n",
    "\n",
    "# Приклад даних про фільми (назва та опис)\n",
    "data = {\n",
    "    'Title': ['Movie 1', 'Movie 2', 'Movie 3', 'Movie 4', 'Movie 5'],\n",
    "    'Genre': ['Adventure', 'Drama', 'Comedy', 'Horror', 'Action'],\n",
    "    'Description': ['This movie is about adventures in the jungle.',\n",
    "                    'A young man meets his love at a party.',\n",
    "                    'A comedy about the challenges of student life.',\n",
    "                    'A terrifying story about a ghost in an old house.',\n",
    "                    'A super agent returns to save the world.']\n",
    "}\n",
    "\n",
    "df = pd.DataFrame(data)\n",
    "\n",
    "# Ініціалізація та навчання TF-IDF векторизатора\n",
    "tfidf = TfidfVectorizer(stop_words='english')\n",
    "tfidf_matrix = tfidf.fit_transform(df['Description'])\n",
    "cosine_sim = linear_kernel(tfidf_matrix, tfidf_matrix) # Обчислення косинусної схожості між фільмами\n",
    "\n",
    "# Функція для отримання рекомендацій на основі схожості фільмів\n",
    "def get_recommendations(title, cosine_sim=cosine_sim):\n",
    "\n",
    "    idx = df[df['Title'] == title].index[0]# Отримання індексу фільму за назвою\n",
    "    sim_scores = list(enumerate(cosine_sim[idx]))# Отримання пар схожостей фільмів та їх індексів\n",
    "    sim_scores = sorted(sim_scores, key=lambda x: x[1], reverse=True)# Сортування фільмів за схожістю\n",
    "    sim_scores = sim_scores[1:]# Отримання топ рекомендацій (крім першого, оскільки це фільм, для якого ми шукаємо рекомендації)\n",
    "    movie_indices = [i[0] for i in sim_scores]# Отримання індексів фільмів\n",
    "    return df['Title'].iloc[movie_indices]# Повернення назв та індексів рекомендованих фільмів\n",
    "\n",
    "# Отримання рекомендацій для фільму з назвою 'Movie 1'\n",
    "recommendations = get_recommendations('Movie 1')\n",
    "print(recommendations)"
   ]
  },
  {
   "cell_type": "markdown",
   "metadata": {
    "id": "vayALefGL8mw"
   },
   "source": [
    "![alt text](https://www.researchgate.net/publication/331063850/figure/fig3/AS:729493727621125@1550936266704/Content-based-filtering-and-Collaborative-filtering-recommendation.ppm)"
   ]
  },
  {
   "cell_type": "markdown",
   "metadata": {
    "id": "RqTKyvoUdLHl"
   },
   "source": [
    "## Змішані методи"
   ]
  },
  {
   "cell_type": "markdown",
   "metadata": {
    "id": "c8j5AGufRbNZ"
   },
   "source": [
    "\n",
    "Змішані методи в контексті рекомендаційних систем означають використання комбінації різних підходів або алгоритмів для здійснення рекомендацій. Це може бути поєднання колаборативного та контентного підходів, або комбінація рекомендацій на основі споживачів (користувачів) та на основі об'єктів (фільмів, товарів).\n",
    "\n",
    "Наприклад, змішаний метод може використовувати колаборативний фільтрінг для рекомендацій на основі подібності користувачів та алгоритми контентного фільтрування для врахування характеристик об'єктів (таких як жанр, категорія, ключові слова тощо).\n",
    "\n",
    "Такий підхід дозволяє зробити більш точні та релевантні рекомендації, враховуючи як особливості користувачів, так і властивості об'єктів, що рекомендуються."
   ]
  },
  {
   "cell_type": "markdown",
   "metadata": {
    "id": "6j95HwkxSZY3"
   },
   "source": [
    "![alt text](https://www.researchgate.net/publication/337938732/figure/fig3/AS:961424914391050@1606232970156/System-architecture-of-Hybrid-recommendation-system.png)"
   ]
  },
  {
   "cell_type": "code",
   "execution_count": 15,
   "metadata": {
    "colab": {
     "base_uri": "https://localhost:8080/"
    },
    "id": "VZkLwX70UA2E",
    "outputId": "fa4181b4-0133-48eb-d6ab-3b53f9a1a907"
   },
   "outputs": [
    {
     "name": "stdout",
     "output_type": "stream",
     "text": [
      "Computing the msd similarity matrix...\n",
      "Done computing similarity matrix.\n",
      "Hybrid recommendations for user 1 and movie Movie 1: [(1, 2.8333333333333335), (2, 2.1666666666666665), (3, 2.0)]\n"
     ]
    }
   ],
   "source": [
    "from surprise import Dataset, Reader, KNNBasic\n",
    "from sklearn.feature_extraction.text import TfidfVectorizer\n",
    "from sklearn.metrics.pairwise import linear_kernel\n",
    "import pandas as pd\n",
    "\n",
    "# Приклад даних про фільми (user_id, movie_id, rating)\n",
    "data = {\n",
    "    'user_id': [1, 1, 2, 2, 3],\n",
    "    'movie_id': [1, 2, 1, 3, 2],\n",
    "    'rating': [5, 4, 3, 4, 5],\n",
    "    'title': ['Movie 1', 'Movie 2', 'Movie 1', 'Movie 3', 'Movie 2'],\n",
    "    'description': ['This movie is about adventures in the jungle.',\n",
    "                    'A young man meets his love at a party.',\n",
    "                    'This movie is about adventures in the jungle.',\n",
    "                    'A terrifying story about a ghost in an old house.',\n",
    "                    'A young man meets his love at a party.']\n",
    "}\n",
    "\n",
    "# Створення об'єкта Dataset та Reader\n",
    "reader = Reader(rating_scale=(1, 5))\n",
    "dataset = Dataset.load_from_df(pd.DataFrame(data)[['user_id', 'movie_id', 'rating']], reader)\n",
    "\n",
    "# Навчання моделі SVD на колаборативних даних\n",
    "trainset = dataset.build_full_trainset()\n",
    "algo_collab = KNNBasic()\n",
    "algo_collab.fit(trainset)\n",
    "\n",
    "# Використання контентного підходу для обробки даних про фільми\n",
    "tfidf = TfidfVectorizer(stop_words='english')\n",
    "tfidf_matrix = tfidf.fit_transform(data['description'])\n",
    "cosine_sim = linear_kernel(tfidf_matrix, tfidf_matrix)\n",
    "\n",
    "# Функція для отримання рекомендацій на основі об'єднання колаборативного та контентного підходів\n",
    "def hybrid_recommendations(user_id, movie_title, N=5):\n",
    "    # Отримання рекомендацій на основі колаборативного підходу\n",
    "    collab_recs = []\n",
    "    for iid in range(1, 4):  # Перебираємо всі доступні фільми (для прикладу)\n",
    "        pred = algo_collab.predict(user_id, iid).est\n",
    "        collab_recs.append((iid, pred))\n",
    "    collab_recs.sort(key=lambda x: x[1], reverse=True)\n",
    "\n",
    "    # Отримання рекомендацій на основі контентного підходу\n",
    "    idx = next((i for i, title in enumerate(data['title']) if title == movie_title), None)\n",
    "    content_recs = []\n",
    "    sim_scores = list(enumerate(cosine_sim[idx]))\n",
    "    sim_scores = sorted(sim_scores, key=lambda x: x[1], reverse=True)\n",
    "    sim_scores = sim_scores[1:N+1]  # Вибираємо топ-N подібних фільмів\n",
    "    for i, score in sim_scores:\n",
    "        content_recs.append((i, score))\n",
    "\n",
    "    # Об'єднання рекомендацій з обох підходів\n",
    "    hybrid_recs = []\n",
    "    for i in range(min(N, len(collab_recs), len(content_recs))):\n",
    "        hybrid_recs.append((collab_recs[i][0], collab_recs[i][1] * 0.5 + content_recs[i][1] * 0.5))\n",
    "    hybrid_recs.sort(key=lambda x: x[1], reverse=True)\n",
    "    return hybrid_recs[:N]\n",
    "\n",
    "# Отримання гібридних рекомендацій для користувача\n",
    "user_id = 1\n",
    "movie_title = 'Movie 1'\n",
    "hybrid_recs = hybrid_recommendations(user_id, movie_title)\n",
    "print(f\"Hybrid recommendations for user {user_id} and movie {movie_title}: {hybrid_recs}\")"
   ]
  },
  {
   "cell_type": "markdown",
   "metadata": {
    "id": "b21KPPXCdLMX"
   },
   "source": [
    "## Matrix Factorization"
   ]
  },
  {
   "cell_type": "markdown",
   "metadata": {
    "id": "4jXCD8LDdagD"
   },
   "source": [
    "Matrix Factorization - це метод у машинному навчанні, який використовується для розкладання матриці рейтингів на добуток двох або більше матриць меншого розміру. Один з найвідоміших методів машинного навчання, який використовує цей підхід, - це Singular Value Decomposition (SVD)."
   ]
  },
  {
   "cell_type": "markdown",
   "metadata": {
    "id": "cScnS89bd7Jm"
   },
   "source": [
    "У методі Matrix Factorization ми розкладаємо матрицю рейтингів користувачів і предметів (наприклад, фільмів) на добуток двох матриць меншого розміру: матриці користувачів і матриці предметів (або факторних матриць). Цей підхід дозволяє нам використовувати інформацію про спільний рейтинг користувачів та предметів для передбачення невідомих рейтингів."
   ]
  },
  {
   "cell_type": "code",
   "execution_count": 16,
   "metadata": {
    "colab": {
     "base_uri": "https://localhost:8080/"
    },
    "id": "Zk_Tajere2Hz",
    "outputId": "fd2bc505-8ed6-41c5-aa2b-461faf027f9f"
   },
   "outputs": [
    {
     "name": "stdout",
     "output_type": "stream",
     "text": [
      "Evaluating RMSE, MAE of algorithm SVD on 5 split(s).\n",
      "\n",
      "                  Fold 1  Fold 2  Fold 3  Fold 4  Fold 5  Mean    Std     \n",
      "RMSE (testset)    0.9357  0.9406  0.9399  0.9427  0.9309  0.9380  0.0042  \n",
      "MAE (testset)     0.7370  0.7404  0.7410  0.7424  0.7355  0.7393  0.0026  \n",
      "Fit time          1.34    1.36    1.35    1.98    1.38    1.48    0.25    \n",
      "Test time         0.14    0.12    0.26    0.21    0.16    0.18    0.05    \n"
     ]
    },
    {
     "data": {
      "text/plain": [
       "{'test_rmse': array([0.9357184 , 0.94064452, 0.93993553, 0.94267919, 0.93091857]),\n",
       " 'test_mae': array([0.73697177, 0.74037997, 0.74104648, 0.74241015, 0.73548938]),\n",
       " 'fit_time': (1.341048240661621,\n",
       "  1.3565514087677002,\n",
       "  1.3543341159820557,\n",
       "  1.9799902439117432,\n",
       "  1.3794817924499512),\n",
       " 'test_time': (0.1430377960205078,\n",
       "  0.12363672256469727,\n",
       "  0.25902295112609863,\n",
       "  0.2075498104095459,\n",
       "  0.15921592712402344)}"
      ]
     },
     "execution_count": 16,
     "metadata": {},
     "output_type": "execute_result"
    }
   ],
   "source": [
    "from surprise import SVD\n",
    "from surprise import Dataset\n",
    "from surprise.model_selection import cross_validate\n",
    "\n",
    "# Завантаження даних\n",
    "data = Dataset.load_builtin('ml-100k')\n",
    "\n",
    "# Використання SVD алгоритму\n",
    "algo = SVD()\n",
    "\n",
    "# Оцінка алгоритму за допомогою крос-валідації\n",
    "cross_validate(algo, data, measures=['RMSE', 'MAE'], cv=5, verbose=True)"
   ]
  },
  {
   "cell_type": "markdown",
   "metadata": {
    "id": "OJH_FdG_d7Mq"
   },
   "source": [
    "Математична особливість методу Matrix Factorization полягає в розкладанні матриці рейтингів користувачів та предметів на добуток двох або більше матриць меншого розміру.\n",
    "\n",
    "Для матриці рейтингів $R$ розміром $m×n$, де $m$ - кількість користувачів, а $n$ - кількість предметів (або ознак), Matrix Factorization зазвичай розкладає цю матрицю у вигляді добутку двох матриць меншого розміру $P$ та $Q$.\n",
    "\n",
    "Математично, це можна виразити так:\n",
    "$$R≈P×Q^T$$\n",
    "\n",
    "Де:\n",
    "\n",
    "$R$ - матриця рейтингів користувачів та предметів розміром $m×n$.\n",
    "\n",
    "$P$ - матриця факторів користувачів розміром $m×k$, де $k$ - кількість факторів.\n",
    "\n",
    "$Q$ - матриця факторів предметів розміром $n×k$.\n",
    "\n",
    "Мета полягає в тому, щоб знайти такі матриці $P$ та $Q$, які найкраще апроксимують вихідну матрицю $R$. Це дозволяє нам використовувати відомості про спільні характеристики користувачів та предметів для передбачення невідомих рейтингів і рекомендацій.\n",
    "\n",
    "\n",
    "\n",
    "\n"
   ]
  },
  {
   "cell_type": "markdown",
   "metadata": {
    "id": "ddjmvEEhdd20"
   },
   "source": [
    "# Практика"
   ]
  },
  {
   "cell_type": "markdown",
   "metadata": {
    "id": "7LO_fPBWh4Hw"
   },
   "source": [
    "\n",
    "1. Movie Recommender Systems:\n",
    "https://www.kaggle.com/code/rounakbanik/movie-recommender-systems\n",
    "\n",
    "2. Getting Started with a Movie Recommendation System:\n",
    "https://www.kaggle.com/code/ibtesama/getting-started-with-a-movie-recommendation-system\n",
    "\n",
    "3. Recommender Systems in Python 101:\n",
    "https://www.kaggle.com/code/gspmoreira/recommender-systems-in-python-101\n",
    "\n",
    "4. Netflix Visualizations (EDA):\n",
    "https://www.kaggle.com/code/niharika41298/netflix-visualizations-recommendation-eda\n",
    "\n",
    "5. Recommender System Using Amazon Reviews:\n",
    "https://www.kaggle.com/code/saurav9786/recommender-system-using-amazon-reviews\n",
    "\n",
    "6. Wine Review's EDA + Recommend Systems:\n",
    "https://www.kaggle.com/code/kabure/wine-review-s-eda-recommend-systems#TFIDF-Vectorizer-in-the-Wine-Review"
   ]
  },
  {
   "cell_type": "code",
   "execution_count": null,
   "metadata": {
    "id": "sfDG7FL083ge"
   },
   "outputs": [],
   "source": []
  }
 ],
 "metadata": {
  "colab": {
   "collapsed_sections": [
    "123AkTMnzq6K",
    "02uJNkLK9VBZ",
    "KzWdDseW6_Qs",
    "8LD7LBTQdESG",
    "fm62kZnxdLDU",
    "RqTKyvoUdLHl",
    "b21KPPXCdLMX",
    "ddjmvEEhdd20"
   ],
   "provenance": []
  },
  "kernelspec": {
   "display_name": "Python 3 (ipykernel)",
   "language": "python",
   "name": "python3"
  },
  "language_info": {
   "codemirror_mode": {
    "name": "ipython",
    "version": 3
   },
   "file_extension": ".py",
   "mimetype": "text/x-python",
   "name": "python",
   "nbconvert_exporter": "python",
   "pygments_lexer": "ipython3",
   "version": "3.11.5"
  }
 },
 "nbformat": 4,
 "nbformat_minor": 1
}
