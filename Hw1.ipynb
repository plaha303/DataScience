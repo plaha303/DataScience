{
 "cells": [
  {
   "cell_type": "code",
   "execution_count": 1,
   "id": "f0ef5a9e",
   "metadata": {},
   "outputs": [],
   "source": [
    "import numpy as np"
   ]
  },
  {
   "cell_type": "code",
   "execution_count": 3,
   "id": "3e9c0c98",
   "metadata": {
    "scrolled": true
   },
   "outputs": [
    {
     "name": "stdout",
     "output_type": "stream",
     "text": [
      "[ 1  2  3  4  5  6  7  8  9 10]\n"
     ]
    }
   ],
   "source": [
    "# Створюємо вектор з першими 10 натуральними числами\n",
    "my_arrey = np.arange(1, 11)\n",
    "\n",
    "print(my_arrey)"
   ]
  },
  {
   "cell_type": "code",
   "execution_count": 8,
   "id": "b6e783cf",
   "metadata": {},
   "outputs": [
    {
     "name": "stdout",
     "output_type": "stream",
     "text": [
      "[[0. 0. 0.]\n",
      " [0. 0. 0.]\n",
      " [0. 0. 0.]]\n"
     ]
    }
   ],
   "source": [
    "# Створюємо матрицю 3x3, заповнену нулями\n",
    "my_matrix = np.zeros((3, 3))\n",
    "print(my_matrix)"
   ]
  },
  {
   "cell_type": "code",
   "execution_count": 9,
   "id": "a933e383",
   "metadata": {},
   "outputs": [
    {
     "name": "stdout",
     "output_type": "stream",
     "text": [
      "[[ 6 10  2  5  5]\n",
      " [ 3  4  4  7  9]\n",
      " [ 8  8  1  4  1]\n",
      " [ 2  4  4  2  4]\n",
      " [ 5  9  8 10  2]]\n"
     ]
    }
   ],
   "source": [
    "# Створюємо матрицю 5x5 із випадковими цілими числами від 1 до 10\n",
    "matrix = np.random.randint(1, 11, size=(5, 5))\n",
    "print(matrix)"
   ]
  },
  {
   "cell_type": "code",
   "execution_count": 10,
   "id": "325af9ea",
   "metadata": {},
   "outputs": [
    {
     "name": "stdout",
     "output_type": "stream",
     "text": [
      "[[0.74710152 0.57059829 0.55866637 0.00725857]\n",
      " [0.08199956 0.20504366 0.29064921 0.11161289]\n",
      " [0.92539252 0.99301535 0.97909862 0.84401606]\n",
      " [0.87727769 0.97982732 0.73276703 0.997406  ]]\n"
     ]
    }
   ],
   "source": [
    "# Створюємо матрицю 4x4 із випадковими дійсними числами від 0 до 1\n",
    "my_array = np.random.rand(4, 4)\n",
    "print(my_array)"
   ]
  },
  {
   "cell_type": "code",
   "execution_count": 11,
   "id": "62589b64",
   "metadata": {},
   "outputs": [
    {
     "name": "stdout",
     "output_type": "stream",
     "text": [
      "Масив 1: [ 4  4  9  2 10]\n",
      "Масив 2: [4 9 7 5 3]\n",
      "Додавання: [ 8 13 16  7 13]\n",
      "Віднімання: [ 0 -5  2 -3  7]\n",
      "Множення: [16 36 63 10 30]\n"
     ]
    }
   ],
   "source": [
    "# Створюємо два одновимірних масиви розміром 5 із випадковими цілими числами від 1 до 10\n",
    "array1 = np.random.randint(1, 11, size=5)\n",
    "array2 = np.random.randint(1, 11, size=5)\n",
    "\n",
    "# Виводимо значення створених масивів\n",
    "print(\"Масив 1:\", array1)\n",
    "print(\"Масив 2:\", array2)\n",
    "\n",
    "# Виконуємо поелементне додавання, віднімання та множення\n",
    "sum_result = array1 + array2\n",
    "subtract_result = array1 - array2\n",
    "multiply_result = array1 * array2\n",
    "\n",
    "# Виводимо результати операцій\n",
    "print(\"Додавання:\", sum_result)\n",
    "print(\"Віднімання:\", subtract_result)\n",
    "print(\"Множення:\", multiply_result)"
   ]
  },
  {
   "cell_type": "code",
   "execution_count": 12,
   "id": "a757e8be",
   "metadata": {},
   "outputs": [
    {
     "name": "stdout",
     "output_type": "stream",
     "text": [
      "Вектор 1: [0.90699905 0.6665322  0.00929822 0.34339236 0.97544327 0.84261377\n",
      " 0.82456321]\n",
      "Вектор 2: [0.74605332 0.19947175 0.37380647 0.0610607  0.61978542 0.22491371\n",
      " 0.12889437]\n",
      "Скалярний добуток: 1.7344299710034026\n"
     ]
    }
   ],
   "source": [
    "# Створюємо два вектори розміром 7 із довільними числами\n",
    "vector1 = np.random.rand(7)\n",
    "vector2 = np.random.rand(7)\n",
    "\n",
    "# Виводимо значення створених векторів\n",
    "print(\"Вектор 1:\", vector1)\n",
    "print(\"Вектор 2:\", vector2)\n",
    "\n",
    "# Знаходимо скалярний добуток векторів\n",
    "dot_product = np.dot(vector1, vector2)\n",
    "\n",
    "# Виводимо результат скалярного добутку\n",
    "print(\"Скалярний добуток:\", dot_product)"
   ]
  },
  {
   "cell_type": "code",
   "execution_count": 13,
   "id": "6d94f63f",
   "metadata": {},
   "outputs": [
    {
     "name": "stdout",
     "output_type": "stream",
     "text": [
      "Матриця 1:\n",
      "[[10  1]\n",
      " [ 3 10]]\n",
      "\n",
      "Матриця 2:\n",
      "[[ 9  1  4]\n",
      " [ 6 10  9]]\n",
      "\n",
      "Результат перемноження:\n",
      "[[ 96  20  49]\n",
      " [ 87 103 102]]\n"
     ]
    }
   ],
   "source": [
    "# Створюємо дві матриці розміром 2x2 та 2x3 із випадковими цілими числами від 1 до 10\n",
    "matrix1 = np.random.randint(1, 11, size=(2, 2))\n",
    "matrix2 = np.random.randint(1, 11, size=(2, 3))\n",
    "\n",
    "# Виводимо значення створених матриць\n",
    "print(\"Матриця 1:\")\n",
    "print(matrix1)\n",
    "\n",
    "print(\"\\nМатриця 2:\")\n",
    "print(matrix2)\n",
    "\n",
    "# Перемножуємо матриці\n",
    "result_matrix = np.dot(matrix1, matrix2)\n",
    "\n",
    "# Виводимо результат перемноження\n",
    "print(\"\\nРезультат перемноження:\")\n",
    "print(result_matrix)"
   ]
  },
  {
   "cell_type": "code",
   "execution_count": 14,
   "id": "3b141260",
   "metadata": {},
   "outputs": [
    {
     "name": "stdout",
     "output_type": "stream",
     "text": [
      "Матриця:\n",
      "[[5 9 8]\n",
      " [6 3 2]\n",
      " [8 9 4]]\n",
      "\n",
      "Обернена матриця:\n",
      "[[-0.04347826  0.26086957 -0.04347826]\n",
      " [-0.05797101 -0.31884058  0.27536232]\n",
      " [ 0.2173913   0.19565217 -0.2826087 ]]\n"
     ]
    }
   ],
   "source": [
    "# Створюємо матрицю 3x3 із випадковими цілими числами від 1 до 10\n",
    "matrix = np.random.randint(1, 11, size=(3, 3))\n",
    "\n",
    "# Виводимо значення створеної матриці\n",
    "print(\"Матриця:\")\n",
    "print(matrix)\n",
    "\n",
    "# Знаходимо обернену матрицю\n",
    "try:\n",
    "    inverse_matrix = np.linalg.inv(matrix)\n",
    "    print(\"\\nОбернена матриця:\")\n",
    "    print(inverse_matrix)\n",
    "except np.linalg.LinAlgError:\n",
    "    print(\"\\nМатриця не має оберненої, оскільки вона є сингулярною (невиродженою).\")"
   ]
  },
  {
   "cell_type": "code",
   "execution_count": 15,
   "id": "d6b10186",
   "metadata": {},
   "outputs": [
    {
     "name": "stdout",
     "output_type": "stream",
     "text": [
      "Матриця:\n",
      "[[0.79788336 0.9500205  0.11953423 0.71341285]\n",
      " [0.17856552 0.20774216 0.05873956 0.88070292]\n",
      " [0.18892022 0.42368709 0.86126669 0.04416582]\n",
      " [0.33986572 0.66410781 0.206434   0.3645149 ]]\n",
      "\n",
      "Транспонована матриця:\n",
      "[[0.79788336 0.17856552 0.18892022 0.33986572]\n",
      " [0.9500205  0.20774216 0.42368709 0.66410781]\n",
      " [0.11953423 0.05873956 0.86126669 0.206434  ]\n",
      " [0.71341285 0.88070292 0.04416582 0.3645149 ]]\n"
     ]
    }
   ],
   "source": [
    "# Створюємо матрицю 4x4 із випадковими дійсними числами від 0 до 1\n",
    "matrix = np.random.rand(4, 4)\n",
    "\n",
    "# Виводимо значення створеної матриці\n",
    "print(\"Матриця:\")\n",
    "print(matrix)\n",
    "\n",
    "# Транспонуємо матрицю\n",
    "transposed_matrix = matrix.T\n",
    "\n",
    "# Виводимо значення транспонованої матриці\n",
    "print(\"\\nТранспонована матриця:\")\n",
    "print(transposed_matrix)"
   ]
  },
  {
   "cell_type": "code",
   "execution_count": 16,
   "id": "467f0b70",
   "metadata": {},
   "outputs": [
    {
     "name": "stdout",
     "output_type": "stream",
     "text": [
      "Матриця:\n",
      "[[10  8  7  3]\n",
      " [ 9  4  2  5]\n",
      " [10  9  6  1]]\n",
      "\n",
      "Вектор:\n",
      "[9 6 1 7]\n",
      "\n",
      "Результат перемноження:\n",
      "[166 142 157]\n"
     ]
    }
   ],
   "source": [
    "# Створюємо матрицю 3x4 із випадковими цілими числами від 1 до 10\n",
    "matrix = np.random.randint(1, 11, size=(3, 4))\n",
    "\n",
    "# Створюємо вектор розміром 4 із випадковими цілими числами від 1 до 10\n",
    "vector = np.random.randint(1, 11, size=4)\n",
    "\n",
    "# Виводимо значення створеної матриці та вектора\n",
    "print(\"Матриця:\")\n",
    "print(matrix)\n",
    "\n",
    "print(\"\\nВектор:\")\n",
    "print(vector)\n",
    "\n",
    "# Перемножуємо матрицю на вектор\n",
    "result_vector = np.dot(matrix, vector)\n",
    "\n",
    "# Виводимо результат перемноження\n",
    "print(\"\\nРезультат перемноження:\")\n",
    "print(result_vector)"
   ]
  },
  {
   "cell_type": "code",
   "execution_count": 17,
   "id": "2ca54a7a",
   "metadata": {},
   "outputs": [
    {
     "name": "stdout",
     "output_type": "stream",
     "text": [
      "Матриця:\n",
      "[[0.91764491 0.1079177  0.80600655]\n",
      " [0.2095059  0.51792739 0.33749463]]\n",
      "\n",
      "Вектор:\n",
      "[0.68304282 0.6097246  0.57455332]\n",
      "\n",
      "Результат перемноження:\n",
      "[1.15568458 0.65280323]\n"
     ]
    }
   ],
   "source": [
    "# Створюємо матрицю 2x3 із випадковими дійсними числами від 0 до 1\n",
    "matrix = np.random.rand(2, 3)\n",
    "\n",
    "# Створюємо вектор розміром 3 із випадковими дійсними числами від 0 до 1\n",
    "vector = np.random.rand(3)\n",
    "\n",
    "# Виводимо значення створеної матриці та вектора\n",
    "print(\"Матриця:\")\n",
    "print(matrix)\n",
    "\n",
    "print(\"\\nВектор:\")\n",
    "print(vector)\n",
    "\n",
    "# Перемножуємо матрицю на вектор\n",
    "result_vector = np.dot(matrix, vector)\n",
    "\n",
    "# Виводимо результат перемноження\n",
    "print(\"\\nРезультат перемноження:\")\n",
    "print(result_vector)"
   ]
  },
  {
   "cell_type": "code",
   "execution_count": 18,
   "id": "ddad00cb",
   "metadata": {},
   "outputs": [
    {
     "name": "stdout",
     "output_type": "stream",
     "text": [
      "Матриця 1:\n",
      "[[1 6]\n",
      " [4 1]]\n",
      "\n",
      "Матриця 2:\n",
      "[[ 6  9]\n",
      " [ 6 10]]\n",
      "\n",
      "Результат поелементного множення:\n",
      "[[ 6 54]\n",
      " [24 10]]\n"
     ]
    }
   ],
   "source": [
    "# Створюємо дві матриці розміром 2x2 із випадковими цілими числами від 1 до 10\n",
    "matrix1 = np.random.randint(1, 11, size=(2, 2))\n",
    "matrix2 = np.random.randint(1, 11, size=(2, 2))\n",
    "\n",
    "# Виводимо значення створених матриць\n",
    "print(\"Матриця 1:\")\n",
    "print(matrix1)\n",
    "\n",
    "print(\"\\nМатриця 2:\")\n",
    "print(matrix2)\n",
    "\n",
    "# Виконуємо поелементне множення\n",
    "elementwise_multiply_result = np.multiply(matrix1, matrix2)\n",
    "\n",
    "# Виводимо результат поелементного множення\n",
    "print(\"\\nРезультат поелементного множення:\")\n",
    "print(elementwise_multiply_result)"
   ]
  },
  {
   "cell_type": "code",
   "execution_count": 19,
   "id": "1c11fd32",
   "metadata": {},
   "outputs": [
    {
     "name": "stdout",
     "output_type": "stream",
     "text": [
      "Матриця 1:\n",
      "[[ 7  9]\n",
      " [10  5]]\n",
      "\n",
      "Матриця 2:\n",
      "[[ 7 10]\n",
      " [ 6  3]]\n",
      "\n",
      "Результат матричного добутку:\n",
      "[[103  97]\n",
      " [100 115]]\n"
     ]
    }
   ],
   "source": [
    "# Створюємо дві матриці розміром 2x2 із випадковими цілими числами від 1 до 10\n",
    "matrix1 = np.random.randint(1, 11, size=(2, 2))\n",
    "matrix2 = np.random.randint(1, 11, size=(2, 2))\n",
    "\n",
    "# Виводимо значення створених матриць\n",
    "print(\"Матриця 1:\")\n",
    "print(matrix1)\n",
    "\n",
    "print(\"\\nМатриця 2:\")\n",
    "print(matrix2)\n",
    "\n",
    "# Знаходимо матричний добуток\n",
    "matrix_product_result = np.dot(matrix1, matrix2)\n",
    "\n",
    "# Виводимо результат матричного добутку\n",
    "print(\"\\nРезультат матричного добутку:\")\n",
    "print(matrix_product_result)"
   ]
  },
  {
   "cell_type": "code",
   "execution_count": 20,
   "id": "5bdabf47",
   "metadata": {},
   "outputs": [
    {
     "name": "stdout",
     "output_type": "stream",
     "text": [
      "Матриця:\n",
      "[[55 33  9 82 71]\n",
      " [21 28 16 81 97]\n",
      " [63 21 45 93  9]\n",
      " [ 2 13 63 85  4]\n",
      " [26 17 45 70 22]]\n",
      "\n",
      "Сума елементів матриці: 1071\n"
     ]
    }
   ],
   "source": [
    "# Створюємо матрицю 5x5 із випадковими цілими числами від 1 до 100\n",
    "matrix = np.random.randint(1, 101, size=(5, 5))\n",
    "\n",
    "# Виводимо значення створеної матриці\n",
    "print(\"Матриця:\")\n",
    "print(matrix)\n",
    "\n",
    "# Знаходимо суму елементів матриці\n",
    "sum_of_elements = np.sum(matrix)\n",
    "\n",
    "# Виводимо результат суми елементів\n",
    "print(\"\\nСума елементів матриці:\", sum_of_elements)"
   ]
  },
  {
   "cell_type": "code",
   "execution_count": 21,
   "id": "aeffd2a9",
   "metadata": {},
   "outputs": [
    {
     "name": "stdout",
     "output_type": "stream",
     "text": [
      "Матриця 1:\n",
      "[[9 6 9 3]\n",
      " [7 2 9 5]\n",
      " [9 1 1 2]\n",
      " [6 4 8 7]]\n",
      "\n",
      "Матриця 2:\n",
      "[[ 7  6  3  6]\n",
      " [ 1 10  9  7]\n",
      " [ 1  2  1  2]\n",
      " [ 3  8 10  3]]\n",
      "\n",
      "Різниця матриць:\n",
      "[[ 2  0  6 -3]\n",
      " [ 6 -8  0 -2]\n",
      " [ 8 -1  0  0]\n",
      " [ 3 -4 -2  4]]\n"
     ]
    }
   ],
   "source": [
    "# Створюємо дві матриці розміром 4x4 із випадковими цілими числами від 1 до 10\n",
    "matrix1 = np.random.randint(1, 11, size=(4, 4))\n",
    "matrix2 = np.random.randint(1, 11, size=(4, 4))\n",
    "\n",
    "# Виводимо значення створених матриць\n",
    "print(\"Матриця 1:\")\n",
    "print(matrix1)\n",
    "\n",
    "print(\"\\nМатриця 2:\")\n",
    "print(matrix2)\n",
    "\n",
    "# Знаходимо різницю матриць\n",
    "matrix_difference = matrix1 - matrix2\n",
    "\n",
    "# Виводимо результат різниці матриць\n",
    "print(\"\\nРізниця матриць:\")\n",
    "print(matrix_difference)"
   ]
  },
  {
   "cell_type": "code",
   "execution_count": 22,
   "id": "f51943b9",
   "metadata": {},
   "outputs": [
    {
     "name": "stdout",
     "output_type": "stream",
     "text": [
      "Матриця:\n",
      "[[0.19244451 0.77829075 0.81083962]\n",
      " [0.5238899  0.48330863 0.56784928]\n",
      " [0.39615636 0.97558186 0.35675213]]\n",
      "\n",
      "Вектор-стовпчик сум елементів кожного рядка:\n",
      "[[1.78157488]\n",
      " [1.57504781]\n",
      " [1.72849035]]\n"
     ]
    }
   ],
   "source": [
    "# Створюємо матрицю 3x3 із випадковими дійсними числами від 0 до 1\n",
    "matrix = np.random.rand(3, 3)\n",
    "\n",
    "# Виводимо значення створеної матриці\n",
    "print(\"Матриця:\")\n",
    "print(matrix)\n",
    "\n",
    "# Знаходимо вектор-стовпчик сум елементів кожного рядка\n",
    "row_sum_vector = np.sum(matrix, axis=1, keepdims=True)\n",
    "\n",
    "# Виводимо результат\n",
    "print(\"\\nВектор-стовпчик сум елементів кожного рядка:\")\n",
    "print(row_sum_vector)"
   ]
  },
  {
   "cell_type": "code",
   "execution_count": 23,
   "id": "5ad7e806",
   "metadata": {},
   "outputs": [
    {
     "name": "stdout",
     "output_type": "stream",
     "text": [
      "Початкова матриця:\n",
      "[[7 5 3 3]\n",
      " [9 9 5 8]\n",
      " [1 2 9 8]]\n",
      "\n",
      "Матриця з квадратами:\n",
      "[[49 25  9  9]\n",
      " [81 81 25 64]\n",
      " [ 1  4 81 64]]\n"
     ]
    }
   ],
   "source": [
    "# Створюємо матрицю 3x4 з довільними цілими числами\n",
    "original_matrix = np.random.randint(1, 11, size=(3, 4))\n",
    "\n",
    "# Виводимо значення початкової матриці\n",
    "print(\"Початкова матриця:\")\n",
    "print(original_matrix)\n",
    "\n",
    "# Створюємо матрицю, в якій кожен елемент - це квадрат відповідного елемента початкової матриці\n",
    "squared_matrix = np.square(original_matrix)\n",
    "\n",
    "# Виводимо значення матриці з квадратами\n",
    "print(\"\\nМатриця з квадратами:\")\n",
    "print(squared_matrix)"
   ]
  },
  {
   "cell_type": "code",
   "execution_count": 24,
   "id": "7a8ec9b1",
   "metadata": {},
   "outputs": [
    {
     "name": "stdout",
     "output_type": "stream",
     "text": [
      "Початковий вектор:\n",
      "[ 8 30 50 32]\n",
      "\n",
      "Вектор з квадратними коренями:\n",
      "[2.82842712 5.47722558 7.07106781 5.65685425]\n"
     ]
    }
   ],
   "source": [
    "# Створюємо вектор розміром 4 з випадковими цілими числами від 1 до 50\n",
    "original_vector = np.random.randint(1, 51, size=4)\n",
    "\n",
    "# Виводимо значення початкового вектора\n",
    "print(\"Початковий вектор:\")\n",
    "print(original_vector)\n",
    "\n",
    "# Створюємо вектор з квадратними коренями\n",
    "sqrt_vector = np.sqrt(original_vector)\n",
    "\n",
    "# Виводимо значення вектора з квадратними коренями\n",
    "print(\"\\nВектор з квадратними коренями:\")\n",
    "print(sqrt_vector)"
   ]
  }
 ],
 "metadata": {
  "kernelspec": {
   "display_name": "Python 3 (ipykernel)",
   "language": "python",
   "name": "python3"
  },
  "language_info": {
   "codemirror_mode": {
    "name": "ipython",
    "version": 3
   },
   "file_extension": ".py",
   "mimetype": "text/x-python",
   "name": "python",
   "nbconvert_exporter": "python",
   "pygments_lexer": "ipython3",
   "version": "3.11.5"
  }
 },
 "nbformat": 4,
 "nbformat_minor": 5
}
