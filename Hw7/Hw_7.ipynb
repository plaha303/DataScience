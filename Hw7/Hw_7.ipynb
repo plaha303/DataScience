{
 "cells": [
  {
   "cell_type": "code",
   "execution_count": 1,
   "id": "d7748e4c",
   "metadata": {},
   "outputs": [
    {
     "name": "stdout",
     "output_type": "stream",
     "text": [
      "Requirement already satisfied: scikit-surprise==1.1.3 in /Applications/anaconda3/lib/python3.11/site-packages (1.1.3)\n",
      "Requirement already satisfied: joblib>=1.0.0 in /Applications/anaconda3/lib/python3.11/site-packages (from scikit-surprise==1.1.3) (1.2.0)\n",
      "Requirement already satisfied: numpy>=1.17.3 in /Applications/anaconda3/lib/python3.11/site-packages (from scikit-surprise==1.1.3) (1.24.3)\n",
      "Requirement already satisfied: scipy>=1.3.2 in /Applications/anaconda3/lib/python3.11/site-packages (from scikit-surprise==1.1.3) (1.11.1)\n",
      "Note: you may need to restart the kernel to use updated packages.\n"
     ]
    }
   ],
   "source": [
    "pip install scikit-surprise==1.1.3"
   ]
  },
  {
   "cell_type": "markdown",
   "id": "9b23ba79",
   "metadata": {},
   "source": [
    "# Домашнє завдання модуля"
   ]
  },
  {
   "cell_type": "code",
   "execution_count": 2,
   "id": "320a90eb",
   "metadata": {},
   "outputs": [],
   "source": [
    "import pandas as pd\n",
    "from surprise import accuracy, Dataset, SVD, SVDpp, NMF\n",
    "from surprise.model_selection import train_test_split\n",
    "from surprise.model_selection import cross_validate\n",
    "from surprise.model_selection import GridSearchCV"
   ]
  },
  {
   "cell_type": "code",
   "execution_count": 3,
   "id": "2fcd5379",
   "metadata": {},
   "outputs": [],
   "source": [
    "dataset = Dataset.load_builtin('ml-100k')"
   ]
  },
  {
   "cell_type": "code",
   "execution_count": 4,
   "id": "9bb9e5ca",
   "metadata": {},
   "outputs": [
    {
     "name": "stdout",
     "output_type": "stream",
     "text": [
      "Найкращий результат RMSE для <class 'surprise.prediction_algorithms.matrix_factorization.SVD'>: 0.9455764813480441\n",
      "Найкращі параметри: {'n_factors': 2, 'n_epochs': 10}\n",
      "Найкращий результат RMSE для <class 'surprise.prediction_algorithms.matrix_factorization.SVDpp'>: 0.9339557338119613\n",
      "Найкращі параметри: {'n_factors': 4, 'n_epochs': 10}\n",
      "Найкращий результат RMSE для <class 'surprise.prediction_algorithms.matrix_factorization.NMF'>: 1.7972089917348035\n",
      "Найкращі параметри: {'n_factors': 4, 'n_epochs': 5}\n",
      "\n",
      "Найкращий алгоритм в цілому: <class 'surprise.prediction_algorithms.matrix_factorization.SVDpp'>\n",
      "Найкращий результат RMSE: 0.9339557338119613\n",
      "Найкращі параметри: {'n_factors': 4, 'n_epochs': 10}\n"
     ]
    }
   ],
   "source": [
    "train = dataset.build_full_trainset()\n",
    "algoritms = [SVD, SVDpp, NMF]\n",
    "param= {'n_factors': [2,4], 'n_epochs': [5,10]}\n",
    "best_algoritm = None\n",
    "best_params = None\n",
    "best_score = float('inf')\n",
    "\n",
    "for algoritm in algoritms:\n",
    "    grid_search = GridSearchCV(algoritm, param, measures=[\"rmse\"], cv=5)\n",
    "    grid_search.fit(dataset)\n",
    "    \n",
    "    print(f\"Найкращий результат RMSE для {algoritm}: {grid_search.best_score['rmse']}\")\n",
    "    print(f\"Найкращі параметри: {grid_search.best_params['rmse']}\")\n",
    "    \n",
    "    if grid_search.best_score['rmse'] < best_score:\n",
    "        best_score = grid_search.best_score['rmse']\n",
    "        best_params = grid_search.best_params['rmse']\n",
    "        best_algoritm = algoritm\n",
    "\n",
    "print(f\"\\nНайкращий алгоритм в цілому: {best_algoritm}\")\n",
    "print(f\"Найкращий результат RMSE: {best_score}\")\n",
    "print(f\"Найкращі параметри: {best_params}\")"
   ]
  },
  {
   "cell_type": "markdown",
   "id": "431ecb3b",
   "metadata": {},
   "source": [
    "# Додаткове завдання з зірочкою"
   ]
  },
  {
   "cell_type": "code",
   "execution_count": 5,
   "id": "0d2dbe57",
   "metadata": {},
   "outputs": [],
   "source": [
    "import numpy as np\n",
    "from scipy import optimize\n",
    "from scipy.io import loadmat"
   ]
  },
  {
   "cell_type": "code",
   "execution_count": 6,
   "id": "fa1ff19d",
   "metadata": {},
   "outputs": [],
   "source": [
    "movie_ids = 'movie_ids.txt'\n",
    "movies_mat = 'movies.mat'"
   ]
  },
  {
   "cell_type": "code",
   "execution_count": 7,
   "id": "d66fe01b",
   "metadata": {},
   "outputs": [],
   "source": [
    "def normalizeRatings(Y, R):\n",
    "    m, n = Y.shape\n",
    "    Ymean = np.zeros(m)\n",
    "    Ynorm = np.zeros(Y.shape)\n",
    "\n",
    "    for i in range(m):\n",
    "        idx = R[i, :] == 1\n",
    "        Ymean[i] = np.mean(Y[i, idx])\n",
    "        Ynorm[i, idx] = Y[i, idx] - Ymean[i]\n",
    "\n",
    "    return Ynorm, Ymean\n",
    "\n",
    "\n",
    "def loadMovieList():\n",
    "    with open(movie_ids,  encoding='ISO-8859-1') as fid:\n",
    "        movies = fid.readlines()\n",
    "\n",
    "    movieNames = []\n",
    "    for movie in movies:\n",
    "        parts = movie.split()\n",
    "        movieNames.append(' '.join(parts[1:]).strip())\n",
    "    return movieNames\n",
    "\n",
    "\n",
    "def computeNumericalGradient(J, theta, e=1e-4):\n",
    "    numgrad = np.zeros(theta.shape)\n",
    "    perturb = np.diag(e * np.ones(theta.shape))\n",
    "    for i in range(theta.size):\n",
    "        loss1, _ = J(theta - perturb[:, i])\n",
    "        loss2, _ = J(theta + perturb[:, i])\n",
    "        numgrad[i] = (loss2 - loss1)/(2*e)\n",
    "    return numgrad\n",
    "\n",
    "\n",
    "def checkCostFunction(cofiCostFunc, lambda_=0.):\n",
    "\n",
    "    X_t = np.random.rand(4, 3)\n",
    "    Theta_t = np.random.rand(5, 3)\n",
    "\n",
    "    Y = np.dot(X_t, Theta_t.T)\n",
    "    Y[np.random.rand(*Y.shape) > 0.5] = 0\n",
    "    R = np.zeros(Y.shape)\n",
    "    R[Y != 0] = 1\n",
    "\n",
    "    X = np.random.randn(*X_t.shape)\n",
    "    Theta = np.random.randn(*Theta_t.shape)\n",
    "    num_movies, num_users = Y.shape\n",
    "    num_features = Theta_t.shape[1]\n",
    "\n",
    "    params = np.concatenate([X.ravel(), Theta.ravel()])\n",
    "    numgrad = computeNumericalGradient(\n",
    "        lambda x: cofiCostFunc(x, Y, R, num_users, num_movies, num_features, lambda_), params)\n",
    "\n",
    "    cost, grad = cofiCostFunc(params, Y, R, num_users,num_movies, num_features, lambda_)\n",
    "\n",
    "    print(np.stack([numgrad, grad], axis=1))\n",
    "    print('\\nНаведені вище два стовпці мають бути дуже схожими.'\n",
    "          '\\n(Ліворуч — наш числовий градієнт, праворуч — аналітичний градієнт)')\n",
    "\n",
    "    diff = np.linalg.norm(numgrad-grad)/np.linalg.norm(numgrad+grad)\n",
    "    print('Якщо наша функція витрат реалізована правильно, тоді '\n",
    "          'відносна різниця буде невеликою (менше 1e-9).')\n",
    "    print('\\nВідносна різниця: %g' % diff)"
   ]
  },
  {
   "cell_type": "code",
   "execution_count": 8,
   "id": "ae6c1413",
   "metadata": {},
   "outputs": [
    {
     "data": {
      "text/plain": [
       "1682"
      ]
     },
     "execution_count": 8,
     "metadata": {},
     "output_type": "execute_result"
    }
   ],
   "source": [
    "names = loadMovieList()\n",
    "len(names)"
   ]
  },
  {
   "cell_type": "code",
   "execution_count": 9,
   "id": "56ca386b",
   "metadata": {},
   "outputs": [
    {
     "name": "stdout",
     "output_type": "stream",
     "text": [
      "Середній рейтинг фільму 1302 ( Getaway, The (1994) ): 4.904560 / 5\n"
     ]
    }
   ],
   "source": [
    "data = loadmat(movies_mat)\n",
    "Y, R = data['Y'], data['R']\n",
    "\n",
    "print('Середній рейтинг фільму 1302 (',names[1302] ,'): %f / 5' %\n",
    "      np.mean(Y[180, R[1400, :]]))"
   ]
  },
  {
   "cell_type": "code",
   "execution_count": 10,
   "id": "526f7c34",
   "metadata": {},
   "outputs": [],
   "source": [
    "def cofiCostFunc(params, Y, R, num_users, num_movies,\n",
    "                      num_features, lambda_=0.0):\n",
    "    # Розгортаємо матриці U та W з params\n",
    "    X = params[:num_movies*num_features].reshape(num_movies, num_features)\n",
    "    Theta = params[num_movies*num_features:].reshape(num_users, num_features)\n",
    "\n",
    "    J = 0\n",
    "    X_grad = np.zeros(X.shape)\n",
    "    Theta_grad = np.zeros(Theta.shape)\n",
    "\n",
    "    J = (1 / 2) * np.sum(np.square((X.dot(Theta.T) - Y) * R)) + (lambda_ / 2) * np.sum(np.square(X)) + \\\n",
    "                                                                (lambda_ / 2) * np.sum(np.square(Theta))\n",
    "    \n",
    "    for i in range(R.shape[0]):\n",
    "        \n",
    "        idx = np.where(R[i, :] == 1)[0]\n",
    "        Theta_temp = Theta[idx, :]\n",
    "        Y_temp = Y[i, idx]\n",
    "        X_grad[i, :] = np.dot(np.dot(X[i, :], Theta_temp.T) - Y_temp, Theta_temp) + lambda_ * X[i, :]\n",
    "        \n",
    "    for j in range(R.shape[1]):\n",
    "        \n",
    "        idx = np.where(R[:, j] == 1)[0]\n",
    "        X_temp = X[idx, :]\n",
    "        Y_temp = Y[idx, j]\n",
    "        Theta_grad[j, :] = np.dot(np.dot(X_temp, Theta[j, :]) - Y_temp, X_temp) + lambda_ * Theta[j, :]\n",
    "    \n",
    "    grad = np.concatenate([X_grad.ravel(), Theta_grad.ravel()])\n",
    "    return J, grad"
   ]
  },
  {
   "cell_type": "code",
   "execution_count": 11,
   "id": "fc496c21",
   "metadata": {},
   "outputs": [
    {
     "name": "stdout",
     "output_type": "stream",
     "text": [
      "[[  5.89472311   5.89472311]\n",
      " [  1.75464126   1.75464126]\n",
      " [ -3.47121562  -3.47121562]\n",
      " [  1.21202929   1.21202929]\n",
      " [ -2.6395556   -2.6395556 ]\n",
      " [ -2.04319608  -2.04319607]\n",
      " [-10.64118877 -10.64118877]\n",
      " [  3.80093391   3.80093391]\n",
      " [  6.3372085    6.3372085 ]\n",
      " [  7.01903894   7.01903894]\n",
      " [ -5.50555454  -5.50555454]\n",
      " [ -1.80078576  -1.80078576]\n",
      " [-15.92048987 -15.92048987]\n",
      " [ -1.52711616  -1.52711616]\n",
      " [  4.47355202   4.47355202]\n",
      " [ 14.65222667  14.65222667]\n",
      " [ -3.76987769  -3.76987769]\n",
      " [ -3.72711961  -3.72711961]\n",
      " [ -9.37029888  -9.37029888]\n",
      " [  1.21023573   1.21023573]\n",
      " [  2.6713645    2.6713645 ]\n",
      " [  2.57905426   2.57905426]\n",
      " [ -0.98566219  -0.98566219]\n",
      " [  1.68884641   1.68884641]\n",
      " [  3.792902     3.792902  ]\n",
      " [  2.55849461   2.55849461]\n",
      " [ -0.57790214  -0.57790214]]\n",
      "\n",
      "Наведені вище два стовпці мають бути дуже схожими.\n",
      "(Ліворуч — наш числовий градієнт, праворуч — аналітичний градієнт)\n",
      "Якщо наша функція витрат реалізована правильно, тоді відносна різниця буде невеликою (менше 1e-9).\n",
      "\n",
      "Відносна різниця: 2.30921e-12\n"
     ]
    }
   ],
   "source": [
    "checkCostFunction(cofiCostFunc, 1.5)"
   ]
  },
  {
   "cell_type": "code",
   "execution_count": 12,
   "id": "668b9944",
   "metadata": {},
   "outputs": [],
   "source": [
    "import random"
   ]
  },
  {
   "cell_type": "code",
   "execution_count": 13,
   "id": "e180bc7d",
   "metadata": {},
   "outputs": [],
   "source": [
    "movieList = loadMovieList()\n",
    "\n",
    "#Перш ніж навчати модель спільної фільтрації, ми спочатку\n",
    "# додамо оцінки, які відповідають новому користувачеві\n",
    "\n",
    "n_m = len(movieList)\n",
    "# Ініціалізуємо оцінки\n",
    "my_ratings = np.zeros(n_m)\n",
    "\n",
    "my_ratings[random.randint(0, 1682)] = random.randint(1, 5)\n",
    "my_ratings[random.randint(0, 1682)] = random.randint(1, 5)\n",
    "my_ratings[random.randint(0, 1682)] = random.randint(1, 5)\n",
    "my_ratings[random.randint(0, 1682)] = random.randint(1, 5)\n",
    "my_ratings[random.randint(0, 1682)] = random.randint(1, 5)\n",
    "my_ratings[random.randint(0, 1682)] = random.randint(1, 5)\n",
    "my_ratings[random.randint(0, 1682)] = random.randint(1, 5)\n",
    "my_ratings[random.randint(0, 1682)] = random.randint(1, 5)\n",
    "my_ratings[random.randint(0, 1682)] = random.randint(1, 5)\n",
    "my_ratings[random.randint(0, 1682)] = random.randint(1, 5)\n",
    "my_ratings[random.randint(0, 1682)] = random.randint(1, 5)\n",
    "my_ratings[random.randint(0, 1682)] = random.randint(1, 5)\n",
    "my_ratings[random.randint(0, 1682)] = random.randint(1, 5)\n",
    "my_ratings[random.randint(0, 1682)] = random.randint(1, 5)"
   ]
  },
  {
   "cell_type": "code",
   "execution_count": 14,
   "id": "0a457fb8",
   "metadata": {},
   "outputs": [
    {
     "name": "stderr",
     "output_type": "stream",
     "text": [
      "/var/folders/gl/lm7vwnyj6nl9kckblky8tx_w0000gn/T/ipykernel_63533/2851689147.py:23: OptimizeWarning: Unknown solver options: maxiter\n",
      "  res = optimize.minimize(lambda x: cofiCostFunc(x, Ynorm, R, num_users,\n"
     ]
    }
   ],
   "source": [
    "# Додаємо наші оцінки до матриці даних\n",
    "Y = np.hstack([my_ratings[:, None], Y])\n",
    "R = np.hstack([(my_ratings > 0)[:, None], R])\n",
    "\n",
    "# Нормалізація рейтингів\n",
    "Ynorm, Ymean = normalizeRatings(Y, R)\n",
    "\n",
    "# Корисні цінності\n",
    "num_movies, num_users = Y.shape\n",
    "num_features = 7\n",
    "\n",
    "# Встановлюємо початкові параметри (Theta, X)\n",
    "X = np.random.randn(num_movies, num_features)\n",
    "Theta = np.random.randn(num_users, num_features)\n",
    "\n",
    "initial_parameters = np.concatenate([X.ravel(), Theta.ravel()])\n",
    "\n",
    "# Встановлюємо параметри для scipy.optimize.minimize\n",
    "options = {'maxiter': 100}\n",
    "\n",
    "# Встановлюємо регулярізацію\n",
    "lambda_ = 10\n",
    "res = optimize.minimize(lambda x: cofiCostFunc(x, Ynorm, R, num_users,\n",
    "                                               num_movies, num_features, lambda_),\n",
    "                        initial_parameters,\n",
    "                        method='TNC',\n",
    "                        jac=True,\n",
    "                        options=options)\n",
    "theta = res.x\n",
    "\n",
    "# Розгортаємо повернуту Theta назад в U та W\n",
    "X = theta[:num_movies*num_features].reshape(num_movies, num_features)\n",
    "Theta = theta[num_movies*num_features:].reshape(num_users, num_features)"
   ]
  },
  {
   "cell_type": "code",
   "execution_count": 15,
   "id": "77af5153",
   "metadata": {},
   "outputs": [
    {
     "name": "stdout",
     "output_type": "stream",
     "text": [
      "Найкращі рекомендації для вас:\n",
      "----------------------------\n",
      "Спрогнозований рейтингу 5.0 для фільму Great Day in Harlem, A (1994)\n",
      "Спрогнозований рейтингу 5.0 для фільму Aiqing wansui (1994)\n",
      "Спрогнозований рейтингу 5.0 для фільму Entertaining Angels: The Dorothy Day Story (1996)\n",
      "Спрогнозований рейтингу 5.0 для фільму Star Kid (1997)\n",
      "Спрогнозований рейтингу 5.0 для фільму Prefontaine (1997)\n",
      "Спрогнозований рейтингу 5.0 для фільму Saint of Fort Washington, The (1993)\n",
      "Спрогнозований рейтингу 5.0 для фільму Marlene Dietrich: Shadow and Light (1996)\n",
      "Спрогнозований рейтингу 5.0 для фільму Someone Else's America (1995)\n",
      "Спрогнозований рейтингу 5.0 для фільму Santa with Muscles (1996)\n",
      "Спрогнозований рейтингу 5.0 для фільму They Made Me a Criminal (1939)\n",
      "Спрогнозований рейтингу 4.6 для фільму Pather Panchali (1955)\n",
      "Спрогнозований рейтингу 4.5 для фільму Everest (1998)\n",
      "Спрогнозований рейтингу 4.5 для фільму Some Mother's Son (1996)\n",
      "Спрогнозований рейтингу 4.5 для фільму Anna (1996)\n",
      "Спрогнозований рейтингу 4.5 для фільму Maya Lin: A Strong Clear Vision (1994)\n",
      "\n",
      "Оригінальні рейтинги:\n",
      "--------------------------\n",
      "Рейтинг 5 для фільму Mr. Holland's Opus (1995)\n",
      "Рейтинг 1 для фільму Dolores Claiborne (1994)\n",
      "Рейтинг 5 для фільму Quiz Show (1994)\n",
      "Рейтинг 1 для фільму Amadeus (1984)\n",
      "Рейтинг 2 для фільму Bridge on the River Kwai, The (1957)\n",
      "Рейтинг 4 для фільму Hunt for Red October, The (1990)\n",
      "Рейтинг 4 для фільму Pocahontas (1995)\n",
      "Рейтинг 3 для фільму Heavenly Creatures (1994)\n",
      "Рейтинг 4 для фільму Village of the Damned (1995)\n",
      "Рейтинг 4 для фільму Heavy (1995)\n",
      "Рейтинг 2 для фільму One Fine Day (1996)\n",
      "Рейтинг 3 для фільму Some Folks Call It a Sling Blade (1993)\n",
      "Рейтинг 4 для фільму Bottle Rocket (1996)\n",
      "Рейтинг 1 для фільму Mighty, The (1998)\n"
     ]
    }
   ],
   "source": [
    "# Зробимо рекомендації, обчислюючи матрицю прогнозів\n",
    "p = np.dot(X, Theta.T)\n",
    "my_predictions = p[:, 0] + Ymean\n",
    "\n",
    "movieList = loadMovieList()\n",
    "\n",
    "ix = np.argsort(my_predictions)[::-1]\n",
    "\n",
    "print('Найкращі рекомендації для вас:')\n",
    "print('----------------------------')\n",
    "for i in range(15):\n",
    "    j = ix[i]\n",
    "    print('Спрогнозований рейтингу %.1f для фільму %s' % (my_predictions[j], movieList[j]))\n",
    "\n",
    "print('\\nОригінальні рейтинги:')\n",
    "print('--------------------------')\n",
    "for i in range(len(my_ratings)):\n",
    "    if my_ratings[i] > 0:\n",
    "        print('Рейтинг %d для фільму %s' % (my_ratings[i], movieList[i]))"
   ]
  },
  {
   "cell_type": "code",
   "execution_count": null,
   "id": "cd5d3137",
   "metadata": {},
   "outputs": [],
   "source": []
  }
 ],
 "metadata": {
  "kernelspec": {
   "display_name": "Python 3 (ipykernel)",
   "language": "python",
   "name": "python3"
  },
  "language_info": {
   "codemirror_mode": {
    "name": "ipython",
    "version": 3
   },
   "file_extension": ".py",
   "mimetype": "text/x-python",
   "name": "python",
   "nbconvert_exporter": "python",
   "pygments_lexer": "ipython3",
   "version": "3.11.5"
  }
 },
 "nbformat": 4,
 "nbformat_minor": 5
}
