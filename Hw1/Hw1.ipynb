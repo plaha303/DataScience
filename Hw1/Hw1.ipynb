{
 "cells": [
  {
   "cell_type": "code",
   "execution_count": 3,
   "id": "f0ef5a9e",
   "metadata": {},
   "outputs": [],
   "source": [
    "import numpy as np"
   ]
  },
  {
   "cell_type": "code",
   "execution_count": 4,
   "id": "3e9c0c98",
   "metadata": {
    "scrolled": true
   },
   "outputs": [
    {
     "name": "stdout",
     "output_type": "stream",
     "text": [
      "[ 1  2  3  4  5  6  7  8  9 10]\n"
     ]
    }
   ],
   "source": [
    "# Створюємо вектор з першими 10 натуральними числами\n",
    "my_arrey = np.arange(1, 11)\n",
    "\n",
    "print(my_arrey)"
   ]
  },
  {
   "cell_type": "code",
   "execution_count": 5,
   "id": "b6e783cf",
   "metadata": {},
   "outputs": [
    {
     "name": "stdout",
     "output_type": "stream",
     "text": [
      "[[0. 0. 0.]\n",
      " [0. 0. 0.]\n",
      " [0. 0. 0.]]\n"
     ]
    }
   ],
   "source": [
    "# Створюємо матрицю 3x3, заповнену нулями\n",
    "my_matrix = np.zeros((3, 3))\n",
    "print(my_matrix)"
   ]
  },
  {
   "cell_type": "code",
   "execution_count": 6,
   "id": "a933e383",
   "metadata": {},
   "outputs": [
    {
     "name": "stdout",
     "output_type": "stream",
     "text": [
      "[[ 5  3  8  3  8]\n",
      " [ 3  5 10  1  6]\n",
      " [ 3  4  1 10  2]\n",
      " [10  6  1  5  3]\n",
      " [ 6 10  3  6  3]]\n"
     ]
    }
   ],
   "source": [
    "# Створюємо матрицю 5x5 із випадковими цілими числами від 1 до 10\n",
    "matrix = np.random.randint(1, 11, size=(5, 5))\n",
    "print(matrix)"
   ]
  },
  {
   "cell_type": "code",
   "execution_count": 7,
   "id": "325af9ea",
   "metadata": {},
   "outputs": [
    {
     "name": "stdout",
     "output_type": "stream",
     "text": [
      "[[0.5153256  0.79275487 0.4741235  0.48712921]\n",
      " [0.84110439 0.33453592 0.9172465  0.27546693]\n",
      " [0.4359025  0.91892325 0.86750727 0.99348009]\n",
      " [0.49307878 0.50857076 0.52170928 0.30800565]]\n"
     ]
    }
   ],
   "source": [
    "# Створюємо матрицю 4x4 із випадковими дійсними числами від 0 до 1\n",
    "my_array = np.random.rand(4, 4)\n",
    "print(my_array)"
   ]
  },
  {
   "cell_type": "code",
   "execution_count": 8,
   "id": "62589b64",
   "metadata": {},
   "outputs": [
    {
     "name": "stdout",
     "output_type": "stream",
     "text": [
      "Додавання: [13 19 13  7 16]\n",
      "Віднімання: [-3 -1  3 -3  2]\n",
      "Множення: [40 90 40 10 63]\n"
     ]
    }
   ],
   "source": [
    "# Створюємо два одновимірних масиви розміром 5 із випадковими цілими числами від 1 до 10\n",
    "array1 = np.random.randint(1, 11, size=5)\n",
    "array2 = np.random.randint(1, 11, size=5)\n",
    "\n",
    "# Виконуємо поелементне додавання, віднімання та множення\n",
    "sum_result = array1 + array2\n",
    "subtract_result = array1 - array2\n",
    "multiply_result = array1 * array2\n",
    "\n",
    "# результати операцій\n",
    "print(\"Додавання:\", sum_result)\n",
    "print(\"Віднімання:\", subtract_result)\n",
    "print(\"Множення:\", multiply_result)"
   ]
  },
  {
   "cell_type": "code",
   "execution_count": 9,
   "id": "a757e8be",
   "metadata": {},
   "outputs": [
    {
     "name": "stdout",
     "output_type": "stream",
     "text": [
      "Скалярний добуток: 1.659068322927792\n"
     ]
    }
   ],
   "source": [
    "# Створюємо два вектори розміром 7 із довільними числами\n",
    "vector1 = np.random.rand(7)\n",
    "vector2 = np.random.rand(7)\n",
    "\n",
    "# скалярний добуток векторів\n",
    "dot_product = np.dot(vector1, vector2)\n",
    "\n",
    "# результат скалярного добутку\n",
    "print(\"Скалярний добуток:\", dot_product)"
   ]
  },
  {
   "cell_type": "code",
   "execution_count": 10,
   "id": "6d94f63f",
   "metadata": {},
   "outputs": [
    {
     "name": "stdout",
     "output_type": "stream",
     "text": [
      "\n",
      "Результат перемноження:\n",
      "[[41 44 33]\n",
      " [60 48 36]]\n"
     ]
    }
   ],
   "source": [
    "import numpy as np\n",
    "# Створюємо дві матриці розміром 2x2 та 2x3 із випадковими цілими числами від 1 до 10\n",
    "matrix1 = np.random.randint(1, 11, size=(2, 2))\n",
    "matrix2 = np.random.randint(1, 11, size=(2, 3))\n",
    "\n",
    "# Перемножуємо матриці\n",
    "result_matrix = np.dot(matrix1, matrix2)\n",
    "\n",
    "# результат перемноження\n",
    "print(\"\\nРезультат перемноження:\")\n",
    "print(result_matrix)"
   ]
  },
  {
   "cell_type": "code",
   "execution_count": 11,
   "id": "3b141260",
   "metadata": {},
   "outputs": [
    {
     "name": "stdout",
     "output_type": "stream",
     "text": [
      "\n",
      "Обернена матриця:\n",
      "[[-0.125    0.3      0.0125 ]\n",
      " [ 0.1875  -0.05    -0.16875]\n",
      " [ 0.      -0.2      0.2    ]]\n"
     ]
    }
   ],
   "source": [
    "# Створюємо матрицю 3x3 із випадковими цілими числами від 1 до 10\n",
    "matrix = np.random.randint(1, 11, size=(3, 3))\n",
    "\n",
    "# Знаходимо обернену матрицю\n",
    "try:\n",
    "    inverse_matrix = np.linalg.inv(matrix)\n",
    "    print(\"\\nОбернена матриця:\")\n",
    "    print(inverse_matrix)\n",
    "except np.linalg.LinAlgError:\n",
    "    print(\"\\nМатриця не має оберненої, оскільки вона є сингулярною (невиродженою).\")"
   ]
  },
  {
   "cell_type": "code",
   "execution_count": 12,
   "id": "d6b10186",
   "metadata": {},
   "outputs": [
    {
     "name": "stdout",
     "output_type": "stream",
     "text": [
      "\n",
      "Транспонована матриця:\n",
      "[[0.92546009 0.88988515 0.79978526 0.57788146]\n",
      " [0.07557772 0.08481492 0.53118905 0.34711274]\n",
      " [0.3988627  0.14958173 0.63333506 0.86563489]\n",
      " [0.07563034 0.14778483 0.66949852 0.68492431]]\n"
     ]
    }
   ],
   "source": [
    "# Створюємо матрицю 4x4 із випадковими дійсними числами від 0 до 1\n",
    "matrix = np.random.rand(4, 4)\n",
    "\n",
    "# Транспонуємо матрицю\n",
    "transposed_matrix = matrix.T\n",
    "\n",
    "# Виводимо значення транспонованої матриці\n",
    "print(\"\\nТранспонована матриця:\")\n",
    "print(transposed_matrix)"
   ]
  },
  {
   "cell_type": "code",
   "execution_count": 13,
   "id": "467f0b70",
   "metadata": {},
   "outputs": [
    {
     "name": "stdout",
     "output_type": "stream",
     "text": [
      "\n",
      "Результат перемноження:\n",
      "[247 258 152]\n"
     ]
    }
   ],
   "source": [
    "# Створюємо матрицю 3x4 із випадковими цілими числами від 1 до 10\n",
    "matrix = np.random.randint(1, 11, size=(3, 4))\n",
    "\n",
    "# Створюємо вектор розміром 4 із випадковими цілими числами від 1 до 10\n",
    "vector = np.random.randint(1, 11, size=4)\n",
    "\n",
    "# Перемножуємо матрицю на вектор\n",
    "result_vector = np.dot(matrix, vector)\n",
    "\n",
    "# Виводимо результат перемноження\n",
    "print(\"\\nРезультат перемноження:\")\n",
    "print(result_vector)"
   ]
  },
  {
   "cell_type": "code",
   "execution_count": 14,
   "id": "2ca54a7a",
   "metadata": {},
   "outputs": [
    {
     "name": "stdout",
     "output_type": "stream",
     "text": [
      "\n",
      "Результат перемноження:\n",
      "[1.35649596 0.4205995 ]\n"
     ]
    }
   ],
   "source": [
    "# Створюємо матрицю 2x3 із випадковими дійсними числами від 0 до 1\n",
    "matrix = np.random.rand(2, 3)\n",
    "\n",
    "# Створюємо вектор розміром 3 із випадковими дійсними числами від 0 до 1\n",
    "vector = np.random.rand(3)\n",
    "\n",
    "# Перемножуємо матрицю на вектор\n",
    "result_vector = np.dot(matrix, vector)\n",
    "\n",
    "# Виводимо результат перемноження\n",
    "print(\"\\nРезультат перемноження:\")\n",
    "print(result_vector)"
   ]
  },
  {
   "cell_type": "code",
   "execution_count": 15,
   "id": "ddad00cb",
   "metadata": {},
   "outputs": [
    {
     "name": "stdout",
     "output_type": "stream",
     "text": [
      "\n",
      "Результат поелементного множення:\n",
      "[[30 49]\n",
      " [45 20]]\n"
     ]
    }
   ],
   "source": [
    "# Створюємо дві матриці розміром 2x2 із випадковими цілими числами від 1 до 10\n",
    "matrix1 = np.random.randint(1, 11, size=(2, 2))\n",
    "matrix2 = np.random.randint(1, 11, size=(2, 2))\n",
    "\n",
    "# Виконуємо поелементне множення\n",
    "elementwise_multiply_result = np.multiply(matrix1, matrix2)\n",
    "\n",
    "# Виводимо результат поелементного множення\n",
    "print(\"\\nРезультат поелементного множення:\")\n",
    "print(elementwise_multiply_result)"
   ]
  },
  {
   "cell_type": "code",
   "execution_count": 16,
   "id": "1c11fd32",
   "metadata": {},
   "outputs": [
    {
     "name": "stdout",
     "output_type": "stream",
     "text": [
      "\n",
      "Результат матричного добутку:\n",
      "[[75 39]\n",
      " [39 27]]\n"
     ]
    }
   ],
   "source": [
    "# Створюємо дві матриці розміром 2x2 із випадковими цілими числами від 1 до 10\n",
    "matrix1 = np.random.randint(1, 11, size=(2, 2))\n",
    "matrix2 = np.random.randint(1, 11, size=(2, 2))\n",
    "\n",
    "# Знаходимо матричний добуток\n",
    "matrix_product_result = np.dot(matrix1, matrix2)\n",
    "\n",
    "# Виводимо результат матричного добутку\n",
    "print(\"\\nРезультат матричного добутку:\")\n",
    "print(matrix_product_result)"
   ]
  },
  {
   "cell_type": "code",
   "execution_count": 17,
   "id": "5bdabf47",
   "metadata": {},
   "outputs": [
    {
     "name": "stdout",
     "output_type": "stream",
     "text": [
      "\n",
      "Сума елементів матриці: 1057\n"
     ]
    }
   ],
   "source": [
    "# Створюємо матрицю 5x5 із випадковими цілими числами від 1 до 100\n",
    "matrix = np.random.randint(1, 101, size=(5, 5))\n",
    "\n",
    "# Знаходимо суму елементів матриці\n",
    "sum_of_elements = np.sum(matrix)\n",
    "\n",
    "# Виводимо результат суми елементів\n",
    "print(\"\\nСума елементів матриці:\", sum_of_elements)"
   ]
  },
  {
   "cell_type": "code",
   "execution_count": 18,
   "id": "aeffd2a9",
   "metadata": {},
   "outputs": [
    {
     "name": "stdout",
     "output_type": "stream",
     "text": [
      "\n",
      "Різниця матриць:\n",
      "[[-2  4 -6  0]\n",
      " [-1  1  3 -1]\n",
      " [-2  1  0  1]\n",
      " [ 5  0 -5 -6]]\n"
     ]
    }
   ],
   "source": [
    "# Створюємо дві матриці розміром 4x4 із випадковими цілими числами від 1 до 10\n",
    "matrix1 = np.random.randint(1, 11, size=(4, 4))\n",
    "matrix2 = np.random.randint(1, 11, size=(4, 4))\n",
    "\n",
    "# Знаходимо різницю матриць\n",
    "matrix_difference = matrix1 - matrix2\n",
    "\n",
    "# Виводимо результат різниці матриць\n",
    "print(\"\\nРізниця матриць:\")\n",
    "print(matrix_difference)"
   ]
  },
  {
   "cell_type": "code",
   "execution_count": 19,
   "id": "f51943b9",
   "metadata": {},
   "outputs": [
    {
     "name": "stdout",
     "output_type": "stream",
     "text": [
      "\n",
      "Вектор-стовпчик сум елементів кожного рядка:\n",
      "[[2.40647341]\n",
      " [2.13434545]\n",
      " [0.86573207]]\n"
     ]
    }
   ],
   "source": [
    "# Створюємо матрицю 3x3 із випадковими дійсними числами від 0 до 1\n",
    "matrix = np.random.rand(3, 3)\n",
    "\n",
    "# Знаходимо вектор-стовпчик сум елементів кожного рядка\n",
    "row_sum_vector = np.sum(matrix, axis=1, keepdims=True)\n",
    "\n",
    "# Виводимо результат\n",
    "print(\"\\nВектор-стовпчик сум елементів кожного рядка:\")\n",
    "print(row_sum_vector)"
   ]
  },
  {
   "cell_type": "code",
   "execution_count": 20,
   "id": "5ad7e806",
   "metadata": {},
   "outputs": [
    {
     "name": "stdout",
     "output_type": "stream",
     "text": [
      "\n",
      "Матриця з квадратами:\n",
      "[[ 16  16   9  16]\n",
      " [  4  36  64   4]\n",
      " [ 81   1 100   1]]\n"
     ]
    }
   ],
   "source": [
    "# Створюємо матрицю 3x4 з довільними цілими числами\n",
    "original_matrix = np.random.randint(1, 11, size=(3, 4))\n",
    "\n",
    "# Створюємо матрицю, в якій кожен елемент - це квадрат відповідного елемента початкової матриці\n",
    "squared_matrix = np.square(original_matrix)\n",
    "\n",
    "# Виводимо значення матриці з квадратами\n",
    "print(\"\\nМатриця з квадратами:\")\n",
    "print(squared_matrix)"
   ]
  },
  {
   "cell_type": "code",
   "execution_count": 21,
   "id": "7a8ec9b1",
   "metadata": {
    "scrolled": true
   },
   "outputs": [
    {
     "name": "stdout",
     "output_type": "stream",
     "text": [
      "\n",
      "Вектор з квадратними коренями:\n",
      "[6.32455532 3.60555128 6.8556546  5.09901951]\n"
     ]
    }
   ],
   "source": [
    "# Створюємо вектор розміром 4 з випадковими цілими числами від 1 до 50\n",
    "original_vector = np.random.randint(1, 51, size=4)\n",
    "\n",
    "# Створюємо вектор з квадратними коренями\n",
    "sqrt_vector = np.sqrt(original_vector)\n",
    "\n",
    "# Виводимо значення вектора з квадратними коренями\n",
    "print(\"\\nВектор з квадратними коренями:\")\n",
    "print(sqrt_vector)"
   ]
  },
  {
   "cell_type": "code",
   "execution_count": null,
   "id": "5ed9c478",
   "metadata": {},
   "outputs": [],
   "source": []
  }
 ],
 "metadata": {
  "kernelspec": {
   "display_name": "Python 3 (ipykernel)",
   "language": "python",
   "name": "python3"
  },
  "language_info": {
   "codemirror_mode": {
    "name": "ipython",
    "version": 3
   },
   "file_extension": ".py",
   "mimetype": "text/x-python",
   "name": "python",
   "nbconvert_exporter": "python",
   "pygments_lexer": "ipython3",
   "version": "3.11.5"
  }
 },
 "nbformat": 4,
 "nbformat_minor": 5
}
